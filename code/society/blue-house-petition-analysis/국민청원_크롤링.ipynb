{
  "nbformat": 4,
  "nbformat_minor": 0,
  "metadata": {
    "kernelspec": {
      "display_name": "Python 3",
      "language": "python",
      "name": "python3"
    },
    "language_info": {
      "codemirror_mode": {
        "name": "ipython",
        "version": 3
      },
      "file_extension": ".py",
      "mimetype": "text/x-python",
      "name": "python",
      "nbconvert_exporter": "python",
      "pygments_lexer": "ipython3",
      "version": "3.7.6"
    },
    "colab": {
      "name": "국민청원_크롤링.ipynb",
      "provenance": []
    }
  },
  "cells": [
    {
      "cell_type": "markdown",
      "metadata": {
        "id": "Y6hYBLEeVbaJ",
        "colab_type": "text"
      },
      "source": [
        "## 청와대 홈페이지 크롤링 코드\n",
        "\n",
        "### 작성자: 송채은\n"
      ]
    },
    {
      "cell_type": "code",
      "metadata": {
        "id": "RNgNIdR3VXQn",
        "colab_type": "code",
        "colab": {}
      },
      "source": [
        "from selenium import webdriver    #동적 구현을 위한 셀리늄 활용\n",
        "from urllib.request import urlopen\n",
        "from bs4 import BeautifulSoup\n",
        "import pandas as pd\n",
        "from selenium.webdriver.common.keys import Keys\n",
        "driver = webdriver.Chrome(#'C:/chromedriver.exe')\n",
        "driver.get('https://www1.president.go.kr/search')\n",
        "import time"
      ],
      "execution_count": null,
      "outputs": []
    },
    {
      "cell_type": "code",
      "metadata": {
        "id": "w2Q5m3pvVXQs",
        "colab_type": "code",
        "colab": {}
      },
      "source": [
        "search_box = driver.find_element_by_css_selector(\"li.search_PG_bar input\")\n",
        "search_box.send_keys(\"우한폐렴\")\n",
        "search_box.send_keys(Keys.RETURN)"
      ],
      "execution_count": null,
      "outputs": []
    },
    {
      "cell_type": "code",
      "metadata": {
        "id": "Dn7GWwJ_VXQw",
        "colab_type": "code",
        "colab": {}
      },
      "source": [
        "detail_search_button = driver.find_element_by_css_selector(\"#contents > div.search_PG_contens > div > ul > li:nth-child(6) > a\")\n",
        "detail_search_button.click()"
      ],
      "execution_count": null,
      "outputs": []
    },
    {
      "cell_type": "code",
      "metadata": {
        "id": "-N_cL1fjVXQz",
        "colab_type": "code",
        "colab": {},
        "outputId": "e1def194-1315-4deb-879d-ec4169916342"
      },
      "source": [
        "\n",
        "\n",
        "titles = []\n",
        "start_date = []\n",
        "end_date = []\n",
        "num_consent = []\n",
        "address = []\n",
        "\n",
        "for n in range(1,20): #n은 페이지 수    \n",
        "# get titles, address(url)\n",
        "    res = driver.page_source\n",
        "    soup = BeautifulSoup(res, \"html.parser\")\n",
        "    contents = soup.find_all('div', class_='PG_contens_pd_list')\n",
        "    for i in range(0,len(contents)):\n",
        "        content = contents[i]\n",
        "        titles.append(content.h2.get_text())\n",
        "        add_url = str(content.find('a')['href'])\n",
        "        address.append('https://www1.president.go.kr'+add_url)\n",
        "    \n",
        "    # 청원시작과 끝 날짜, 참여인원, 답변일 정보 얻기 \n",
        "    infos = soup.find_all('ul', class_='PG_peti_list')\n",
        "    for info in infos: \n",
        "        date = info.find_all('span')\n",
        "        start_date.append(date[0].get_text())\n",
        "        #print(start_date)\n",
        "        end_date.append(date[1].get_text())\n",
        "        #print(end_date)\n",
        "        num_consent.append(date[2].get_text())\n",
        "        \n",
        "    print(n)    \n",
        "    page_bar = driver.find_elements_by_css_selector('div.p_btn > a')\n",
        "    try:\n",
        "        if n%7 != 0:\n",
        "            page_bar[n%7+1].click()\n",
        "            time.sleep(1)\n",
        "        else:\n",
        "            page_bar[8].click()\n",
        "            time.sleep(2)\n",
        "    except:\n",
        "        print(\"수집완료\")\n",
        "        break\n",
        "    time.sleep(0.5)\n",
        "#driver.close()"
      ],
      "execution_count": null,
      "outputs": [
        {
          "output_type": "stream",
          "text": [
            "1\n",
            "2\n",
            "3\n",
            "4\n",
            "5\n",
            "6\n",
            "7\n",
            "8\n",
            "9\n",
            "10\n",
            "11\n",
            "12\n",
            "13\n",
            "14\n",
            "15\n",
            "16\n",
            "17\n",
            "수집완료\n"
          ],
          "name": "stdout"
        }
      ]
    },
    {
      "cell_type": "code",
      "metadata": {
        "id": "SEErMixcVXQ3",
        "colab_type": "code",
        "colab": {},
        "outputId": "a0cc0032-999e-47f3-e4f6-c953f1e80798"
      },
      "source": [
        "data = {'제목':titles, '청원시작일':start_date, '청원종료일': end_date,\n",
        "       '참여인원': num_consent,'URL':address}\n",
        "df = pd.DataFrame(data)\n",
        "df.describe()"
      ],
      "execution_count": null,
      "outputs": [
        {
          "output_type": "execute_result",
          "data": {
            "text/html": [
              "<div>\n",
              "<style scoped>\n",
              "    .dataframe tbody tr th:only-of-type {\n",
              "        vertical-align: middle;\n",
              "    }\n",
              "\n",
              "    .dataframe tbody tr th {\n",
              "        vertical-align: top;\n",
              "    }\n",
              "\n",
              "    .dataframe thead th {\n",
              "        text-align: right;\n",
              "    }\n",
              "</style>\n",
              "<table border=\"1\" class=\"dataframe\">\n",
              "  <thead>\n",
              "    <tr style=\"text-align: right;\">\n",
              "      <th></th>\n",
              "      <th>제목</th>\n",
              "      <th>청원시작일</th>\n",
              "      <th>청원종료일</th>\n",
              "      <th>참여인원</th>\n",
              "      <th>URL</th>\n",
              "    </tr>\n",
              "  </thead>\n",
              "  <tbody>\n",
              "    <tr>\n",
              "      <th>count</th>\n",
              "      <td>162</td>\n",
              "      <td>162</td>\n",
              "      <td>162</td>\n",
              "      <td>162</td>\n",
              "      <td>162</td>\n",
              "    </tr>\n",
              "    <tr>\n",
              "      <th>unique</th>\n",
              "      <td>156</td>\n",
              "      <td>26</td>\n",
              "      <td>26</td>\n",
              "      <td>150</td>\n",
              "      <td>156</td>\n",
              "    </tr>\n",
              "    <tr>\n",
              "      <th>top</th>\n",
              "      <td>서비스 종사자 마스크 착용</td>\n",
              "      <td>2020-02-03</td>\n",
              "      <td>2020-03-04</td>\n",
              "      <td>198</td>\n",
              "      <td>https://www1.president.go.kr/petitions/584706</td>\n",
              "    </tr>\n",
              "    <tr>\n",
              "      <th>freq</th>\n",
              "      <td>2</td>\n",
              "      <td>58</td>\n",
              "      <td>58</td>\n",
              "      <td>2</td>\n",
              "      <td>2</td>\n",
              "    </tr>\n",
              "  </tbody>\n",
              "</table>\n",
              "</div>"
            ],
            "text/plain": [
              "                    제목       청원시작일       청원종료일 참여인원  \\\n",
              "count              162         162         162  162   \n",
              "unique             156          26          26  150   \n",
              "top     서비스 종사자 마스크 착용  2020-02-03  2020-03-04  198   \n",
              "freq                 2          58          58    2   \n",
              "\n",
              "                                                  URL  \n",
              "count                                             162  \n",
              "unique                                            156  \n",
              "top     https://www1.president.go.kr/petitions/584706  \n",
              "freq                                                2  "
            ]
          },
          "metadata": {
            "tags": []
          },
          "execution_count": 22
        }
      ]
    },
    {
      "cell_type": "code",
      "metadata": {
        "id": "pQZe7fdpVXQ7",
        "colab_type": "code",
        "colab": {},
        "outputId": "eba10192-2c4f-4af7-fb2f-0ad02c8b4f4b"
      },
      "source": [
        "df = df.drop_duplicates('제목', keep='first')\n",
        "df.describe()"
      ],
      "execution_count": null,
      "outputs": [
        {
          "output_type": "execute_result",
          "data": {
            "text/html": [
              "<div>\n",
              "<style scoped>\n",
              "    .dataframe tbody tr th:only-of-type {\n",
              "        vertical-align: middle;\n",
              "    }\n",
              "\n",
              "    .dataframe tbody tr th {\n",
              "        vertical-align: top;\n",
              "    }\n",
              "\n",
              "    .dataframe thead th {\n",
              "        text-align: right;\n",
              "    }\n",
              "</style>\n",
              "<table border=\"1\" class=\"dataframe\">\n",
              "  <thead>\n",
              "    <tr style=\"text-align: right;\">\n",
              "      <th></th>\n",
              "      <th>제목</th>\n",
              "      <th>청원시작일</th>\n",
              "      <th>청원종료일</th>\n",
              "      <th>참여인원</th>\n",
              "      <th>URL</th>\n",
              "    </tr>\n",
              "  </thead>\n",
              "  <tbody>\n",
              "    <tr>\n",
              "      <th>count</th>\n",
              "      <td>156</td>\n",
              "      <td>156</td>\n",
              "      <td>156</td>\n",
              "      <td>156</td>\n",
              "      <td>156</td>\n",
              "    </tr>\n",
              "    <tr>\n",
              "      <th>unique</th>\n",
              "      <td>156</td>\n",
              "      <td>26</td>\n",
              "      <td>26</td>\n",
              "      <td>150</td>\n",
              "      <td>156</td>\n",
              "    </tr>\n",
              "    <tr>\n",
              "      <th>top</th>\n",
              "      <td>우한 교민 720명 잠복기간 14일 동안 크루즈나 섬에서 안전하게 머물게 해주세요.</td>\n",
              "      <td>2020-02-03</td>\n",
              "      <td>2020-03-04</td>\n",
              "      <td>198</td>\n",
              "      <td>https://www1.president.go.kr/petitions/584896</td>\n",
              "    </tr>\n",
              "    <tr>\n",
              "      <th>freq</th>\n",
              "      <td>1</td>\n",
              "      <td>55</td>\n",
              "      <td>55</td>\n",
              "      <td>2</td>\n",
              "      <td>1</td>\n",
              "    </tr>\n",
              "  </tbody>\n",
              "</table>\n",
              "</div>"
            ],
            "text/plain": [
              "                                                    제목       청원시작일  \\\n",
              "count                                              156         156   \n",
              "unique                                             156          26   \n",
              "top     우한 교민 720명 잠복기간 14일 동안 크루즈나 섬에서 안전하게 머물게 해주세요.  2020-02-03   \n",
              "freq                                                 1          55   \n",
              "\n",
              "             청원종료일 참여인원                                            URL  \n",
              "count          156  156                                            156  \n",
              "unique          26  150                                            156  \n",
              "top     2020-03-04  198  https://www1.president.go.kr/petitions/584896  \n",
              "freq            55    2                                              1  "
            ]
          },
          "metadata": {
            "tags": []
          },
          "execution_count": 32
        }
      ]
    },
    {
      "cell_type": "code",
      "metadata": {
        "id": "_63wZQtpVXQ-",
        "colab_type": "code",
        "colab": {}
      },
      "source": [
        "df.to_csv('BlueHouse Petition data.csv', sep=',', encoding='utf-8')"
      ],
      "execution_count": null,
      "outputs": []
    },
    {
      "cell_type": "code",
      "metadata": {
        "id": "B9WomIMQVXRC",
        "colab_type": "code",
        "colab": {},
        "outputId": "4fc6888c-b15a-4ad2-9ea7-bcc21437d7d2"
      },
      "source": [
        "petition = pd.read_csv('BlueHouse Petition data.csv', thousands=',', encoding='utf-8', index_col=0)\n",
        "petition.head()"
      ],
      "execution_count": null,
      "outputs": [
        {
          "output_type": "execute_result",
          "data": {
            "text/html": [
              "<div>\n",
              "<style scoped>\n",
              "    .dataframe tbody tr th:only-of-type {\n",
              "        vertical-align: middle;\n",
              "    }\n",
              "\n",
              "    .dataframe tbody tr th {\n",
              "        vertical-align: top;\n",
              "    }\n",
              "\n",
              "    .dataframe thead th {\n",
              "        text-align: right;\n",
              "    }\n",
              "</style>\n",
              "<table border=\"1\" class=\"dataframe\">\n",
              "  <thead>\n",
              "    <tr style=\"text-align: right;\">\n",
              "      <th></th>\n",
              "      <th>제목</th>\n",
              "      <th>청원시작일</th>\n",
              "      <th>청원종료일</th>\n",
              "      <th>참여인원</th>\n",
              "      <th>URL</th>\n",
              "    </tr>\n",
              "  </thead>\n",
              "  <tbody>\n",
              "    <tr>\n",
              "      <th>0</th>\n",
              "      <td>유튜버 우**을 구속바랍니다</td>\n",
              "      <td>2020-05-09</td>\n",
              "      <td>2020-06-08</td>\n",
              "      <td>1205</td>\n",
              "      <td>https://www1.president.go.kr/petitions/588717</td>\n",
              "    </tr>\n",
              "    <tr>\n",
              "      <th>1</th>\n",
              "      <td>우리 아이들 의 생명권 과 자유권 과 교육권 을 묵살한 문재인대통령 은 해명해 주십시요</td>\n",
              "      <td>2020-04-13</td>\n",
              "      <td>2020-05-13</td>\n",
              "      <td>668</td>\n",
              "      <td>https://www1.president.go.kr/petitions/588060</td>\n",
              "    </tr>\n",
              "    <tr>\n",
              "      <th>2</th>\n",
              "      <td>재난 기금이라는 말은 재난으로 고통받는 한반도에 거주하는 시민에게 주는 것입니다. ...</td>\n",
              "      <td>2020-04-03</td>\n",
              "      <td>2020-05-03</td>\n",
              "      <td>2747</td>\n",
              "      <td>https://www1.president.go.kr/petitions/587705</td>\n",
              "    </tr>\n",
              "    <tr>\n",
              "      <th>3</th>\n",
              "      <td>외국인 입국금지 반드시 해야합니다. 국무총리 당신의 의견이 국민의 의견이라고 생각하...</td>\n",
              "      <td>2020-04-01</td>\n",
              "      <td>2020-05-01</td>\n",
              "      <td>4209</td>\n",
              "      <td>https://www1.president.go.kr/petitions/587596</td>\n",
              "    </tr>\n",
              "    <tr>\n",
              "      <th>4</th>\n",
              "      <td>예배로 인한 코로나19 확산 구상권은 대통령에게</td>\n",
              "      <td>2020-03-27</td>\n",
              "      <td>2020-04-26</td>\n",
              "      <td>742</td>\n",
              "      <td>https://www1.president.go.kr/petitions/587312</td>\n",
              "    </tr>\n",
              "  </tbody>\n",
              "</table>\n",
              "</div>"
            ],
            "text/plain": [
              "                                                  제목       청원시작일       청원종료일  \\\n",
              "0                                    유튜버 우**을 구속바랍니다  2020-05-09  2020-06-08   \n",
              "1   우리 아이들 의 생명권 과 자유권 과 교육권 을 묵살한 문재인대통령 은 해명해 주십시요  2020-04-13  2020-05-13   \n",
              "2  재난 기금이라는 말은 재난으로 고통받는 한반도에 거주하는 시민에게 주는 것입니다. ...  2020-04-03  2020-05-03   \n",
              "3  외국인 입국금지 반드시 해야합니다. 국무총리 당신의 의견이 국민의 의견이라고 생각하...  2020-04-01  2020-05-01   \n",
              "4                         예배로 인한 코로나19 확산 구상권은 대통령에게  2020-03-27  2020-04-26   \n",
              "\n",
              "   참여인원                                            URL  \n",
              "0  1205  https://www1.president.go.kr/petitions/588717  \n",
              "1   668  https://www1.president.go.kr/petitions/588060  \n",
              "2  2747  https://www1.president.go.kr/petitions/587705  \n",
              "3  4209  https://www1.president.go.kr/petitions/587596  \n",
              "4   742  https://www1.president.go.kr/petitions/587312  "
            ]
          },
          "metadata": {
            "tags": []
          },
          "execution_count": 34
        }
      ]
    },
    {
      "cell_type": "code",
      "metadata": {
        "id": "GFdjsnbBVXRF",
        "colab_type": "code",
        "colab": {}
      },
      "source": [
        "df.to_excel('BlueHouse Petition data.xlsx')"
      ],
      "execution_count": null,
      "outputs": []
    },
    {
      "cell_type": "code",
      "metadata": {
        "id": "U1EmiJRGVXRI",
        "colab_type": "code",
        "colab": {
          "referenced_widgets": [
            "fd4c25e84ea449ee9cb8cdef4766d578"
          ]
        },
        "outputId": "ca844f17-00e5-4b08-fe65-f53ec27d1c5b"
      },
      "source": [
        "import re \n",
        "import time\n",
        "from tqdm import tqdm_notebook\n",
        "from urllib.request import urlopen\n",
        "from bs4 import BeautifulSoup\n",
        "\n",
        "category =[]\n",
        "content = []\n",
        "person = []\n",
        "\n",
        "for n in tqdm_notebook(petition.index): \n",
        "    url = urlopen(petition['URL'][n]) \n",
        "    if n / 2 == 0:\n",
        "        time.sleep(1)\n",
        "    else: \n",
        "        time.sleep(2)\n",
        "    soup = BeautifulSoup(url, \"html.parser\") \n",
        "    \n",
        "    # get category \n",
        "    sector = soup.find('ul', class_='petitionsView_info_list')\n",
        "    try: \n",
        "        category.append(sector.li.get_text()[4:])\n",
        "    except AttributeError:\n",
        "        print('AttributeError: index-', n, 'URL-', petition['URL'][n])\n",
        "    person.append(sector.find_all('li')[3].get_text()[3:-6])\n",
        "\n",
        "\n",
        "    # get petition content \n",
        "    content_raw = soup.find_all('div', class_='View_write')\n",
        "    try: \n",
        "        if len(content_raw) > 1:\n",
        "            content_raw_text = content_raw[1].get_text()\n",
        "        else: \n",
        "            content_raw_text = content_raw[0].get_text()   \n",
        "    except IndexError: \n",
        "        print('IndexError:', petition['URL'][n])\n",
        "    \n",
        "    content_split = re.split('\\r|\\t|\\n|\\xa0', content_raw_text)\n",
        "    content.append(''.join(content_split))"
      ],
      "execution_count": null,
      "outputs": [
        {
          "output_type": "stream",
          "text": [
            "C:\\Users\\SONG\\anaconda3\\lib\\site-packages\\ipykernel_launcher.py:11: TqdmDeprecationWarning: This function will be removed in tqdm==5.0.0\n",
            "Please use `tqdm.notebook.tqdm` instead of `tqdm.tqdm_notebook`\n",
            "  # This is added back by InteractiveShellApp.init_path()\n"
          ],
          "name": "stderr"
        },
        {
          "output_type": "display_data",
          "data": {
            "application/vnd.jupyter.widget-view+json": {
              "model_id": "fd4c25e84ea449ee9cb8cdef4766d578",
              "version_major": 2,
              "version_minor": 0
            },
            "text/plain": [
              "HBox(children=(FloatProgress(value=0.0, max=156.0), HTML(value='')))"
            ]
          },
          "metadata": {
            "tags": []
          }
        },
        {
          "output_type": "stream",
          "text": [
            "\n"
          ],
          "name": "stdout"
        }
      ]
    },
    {
      "cell_type": "code",
      "metadata": {
        "id": "vBWZqevjVXRK",
        "colab_type": "code",
        "colab": {},
        "outputId": "5c93d973-f625-4504-bd2b-fbd97f537456"
      },
      "source": [
        "print(len(category), len(content), len(person))"
      ],
      "execution_count": null,
      "outputs": [
        {
          "output_type": "stream",
          "text": [
            "156 156 156\n"
          ],
          "name": "stdout"
        }
      ]
    },
    {
      "cell_type": "code",
      "metadata": {
        "id": "JGOmmnX_VXRN",
        "colab_type": "code",
        "colab": {}
      },
      "source": [
        "petition['카테고리'] = category\n",
        "petition['청원내용'] = content\n",
        "petition['청원인'] = person"
      ],
      "execution_count": null,
      "outputs": []
    },
    {
      "cell_type": "code",
      "metadata": {
        "id": "e9FL9O54VXRQ",
        "colab_type": "code",
        "colab": {},
        "outputId": "bdfcabb4-3a28-476d-cb2c-2b6e8a05d3d6"
      },
      "source": [
        "petition.info()"
      ],
      "execution_count": null,
      "outputs": [
        {
          "output_type": "stream",
          "text": [
            "<class 'pandas.core.frame.DataFrame'>\n",
            "Int64Index: 156 entries, 0 to 155\n",
            "Data columns (total 8 columns):\n",
            " #   Column  Non-Null Count  Dtype \n",
            "---  ------  --------------  ----- \n",
            " 0   제목      156 non-null    object\n",
            " 1   청원시작일   156 non-null    object\n",
            " 2   청원종료일   156 non-null    object\n",
            " 3   참여인원    156 non-null    int64 \n",
            " 4   URL     156 non-null    object\n",
            " 5   카테고리    156 non-null    object\n",
            " 6   청원내용    156 non-null    object\n",
            " 7   청원인     156 non-null    object\n",
            "dtypes: int64(1), object(7)\n",
            "memory usage: 16.0+ KB\n"
          ],
          "name": "stdout"
        }
      ]
    },
    {
      "cell_type": "code",
      "metadata": {
        "id": "pVfdNl2bVXRT",
        "colab_type": "code",
        "colab": {}
      },
      "source": [
        "petition.to_csv('Final BlueHouse Petition data.csv', sep=',', encoding='utf-8')"
      ],
      "execution_count": null,
      "outputs": []
    },
    {
      "cell_type": "code",
      "metadata": {
        "id": "SLDqrn1rVXRW",
        "colab_type": "code",
        "colab": {}
      },
      "source": [
        ""
      ],
      "execution_count": null,
      "outputs": []
    }
  ]
}