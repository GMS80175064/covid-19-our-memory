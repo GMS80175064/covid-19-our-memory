{
  "nbformat": 4,
  "nbformat_minor": 0,
  "metadata": {
    "colab": {
      "name": "인천-확진자-크롤링.ipynb",
      "provenance": [],
      "collapsed_sections": []
    },
    "kernelspec": {
      "name": "python3",
      "display_name": "Python 3"
    }
  },
  "cells": [
    {
      "cell_type": "markdown",
      "metadata": {
        "id": "Itt_m4W4X9bu",
        "colab_type": "text"
      },
      "source": [
        "#인천시 확진자 크롤링 코드\n",
        "\n",
        "\n",
        "### 작성자: 이해영"
      ]
    },
    {
      "cell_type": "code",
      "metadata": {
        "id": "LcMDeIhEtj5w",
        "colab_type": "code",
        "colab": {}
      },
      "source": [
        "from urllib.request import urlopen \n",
        "from bs4 import BeautifulSoup"
      ],
      "execution_count": null,
      "outputs": []
    },
    {
      "cell_type": "code",
      "metadata": {
        "id": "IR2RxXIPtom4",
        "colab_type": "code",
        "colab": {}
      },
      "source": [
        "url = 'https://www.incheon.go.kr/health/HE020409'\n",
        "html = urlopen(url)\n",
        "\n",
        "soup = BeautifulSoup(html, 'html.parser')"
      ],
      "execution_count": null,
      "outputs": []
    },
    {
      "cell_type": "code",
      "metadata": {
        "id": "6USZ6WbpvY-l",
        "colab_type": "code",
        "colab": {}
      },
      "source": [
        "lists = soup.find_all('div', class_='patient-profile-route-group')  # 확진자 리스트"
      ],
      "execution_count": null,
      "outputs": []
    },
    {
      "cell_type": "code",
      "metadata": {
        "id": "ZpYxULjlvv-m",
        "colab_type": "code",
        "colab": {
          "base_uri": "https://localhost:8080/",
          "height": 1000
        },
        "outputId": "f1750e74-2dbc-4a08-afd1-a2d41177f896"
      },
      "source": [
        "for list in lists[:5]: \n",
        "    print(list.get_text())"
      ],
      "execution_count": null,
      "outputs": [
        {
          "output_type": "stream",
          "text": [
            "\n",
            "\n",
            "\r\n",
            "\t\t\t\t\t\t\t\t380. \r\n",
            "\t\t\t\t\t\t\t\t #미정\n",
            " 서구\t\t\t\t\t\t\t\t\t\r\n",
            "\r\n",
            "\t\t\t\t\t\t\t\t(2020.07.22 / 인천 확진자(375) 접촉)\r\n",
            "\t\t\t\t\t\t\t\t펼치기\n",
            "\n",
            "\n",
            "\n",
            "\n",
            "\n",
            "\n",
            " 20.07.19\n",
            "\n",
            "\n",
            "\n",
            " 자택에 머무름\n",
            "\n",
            "\n",
            "\n",
            "\n",
            "\n",
            " 20.07.20\n",
            "\n",
            "\n",
            "\n",
            " 13:00–20:00 가게 출근\n",
            "\n",
            "\n",
            "\n",
            "\n",
            "\n",
            " 20.07.21\n",
            "\n",
            "\n",
            "\n",
            " 16:00            서구보건소 선별진료소 검사\n",
            "\n",
            "\n",
            "\n",
            "\n",
            "\n",
            " 20.07.22\n",
            "\n",
            "\n",
            "\n",
            " 05:00            양성통보06:00            인천의료원으로 이송*거주지 및 주변지역, 매장 및 정서진중앙시장 방역실시*출처 : 서구청 홈페이지\n",
            "\n",
            "\n",
            "\n",
            "\n",
            "\n",
            "\n",
            "\n",
            "\n",
            "\r\n",
            "\t\t\t\t\t\t\t\t379. \r\n",
            "\t\t\t\t\t\t\t\t #미정\n",
            " 연수구\t\t\t\t\t\t\t\t\t\r\n",
            "\r\n",
            "\t\t\t\t\t\t\t\t(2020.07.22 / 해외입국(카자흐스탄))\r\n",
            "\t\t\t\t\t\t\t\t펼치기\n",
            "\n",
            "\n",
            "\n",
            "\n",
            "\n",
            "\n",
            " 20.07.19\n",
            "\n",
            "\n",
            "\n",
            " (7/13 09:10 인천국제공항 도착 이후 자가격리)09:22 자택 출발(도보, 마스크 착용)09:50 연수구보건소 선별진료소 검체검사10:21 자택 도착 (도보, 마스크 착용) \n",
            "\n",
            "\n",
            "\n",
            "\n",
            "\n",
            " 20.07.20\n",
            "\n",
            "\n",
            "\n",
            " 자택에 머무름\n",
            "\n",
            "\n",
            "\n",
            "\n",
            "\n",
            " 20.07.21\n",
            "\n",
            "\n",
            "\n",
            " 17:18 자택 출발(도보, 마스크 착용)17:45 연수구보건소 선별진료소 검사 18:20 자택 도착 (도보, 마스크 착용)\n",
            "\n",
            "\n",
            "\n",
            "\n",
            "\n",
            " 20.07.22\n",
            "\n",
            "\n",
            "\n",
            " 05:28 길병원 출발(구급차, 마스크 착용)05:48 길병원 도착(구급차, 마스크 착용)*출처 : 연수구청 홈페이지\n",
            "\n",
            "\n",
            "\n",
            "\n",
            "\n",
            "\n",
            "\n",
            "\n",
            "\r\n",
            "\t\t\t\t\t\t\t\t378. \r\n",
            "\t\t\t\t\t\t\t\t #미정\n",
            " 서구\t\t\t\t\t\t\t\t\t\r\n",
            "\r\n",
            "\t\t\t\t\t\t\t\t(2020.07.22 / 인천 확진자(375) 접촉)\r\n",
            "\t\t\t\t\t\t\t\t펼치기\n",
            "\n",
            "\n",
            "\n",
            "\n",
            "\n",
            "\n",
            " 20.07.15 ~ 19\n",
            "\n",
            "\n",
            "\n",
            " 09:30–19:00  가게 출근\n",
            "\n",
            "\n",
            "\n",
            "\n",
            "\n",
            " 20.07.20\n",
            "\n",
            "\n",
            "\n",
            " 자택에 머무름\n",
            "\n",
            "\n",
            "\n",
            "\n",
            "\n",
            " 20.07.21\n",
            "\n",
            "\n",
            "\n",
            " 10:30             가게 출근17:20             서구보건소 선별진료소 검사\n",
            "\n",
            "\n",
            "\n",
            "\n",
            "\n",
            " 20.07.22\n",
            "\n",
            "\n",
            "\n",
            " 01:00             양성통보02:00             인천의료원으로 이송*거주지 및 주변지역, 매장 및 정서진중앙시장 방역실시*출처 : 서구청 홈페이지\n",
            "\n",
            "\n",
            "\n",
            "\n",
            "\n",
            "\n",
            "\n",
            "\n",
            "\r\n",
            "\t\t\t\t\t\t\t\t377. \r\n",
            "\t\t\t\t\t\t\t\t #13838\n",
            " 계양구\t\t\t\t\t\t\t\t\t\r\n",
            "\r\n",
            "\t\t\t\t\t\t\t\t(202.07.21 / 해외입국(카자흐스탄))\r\n",
            "\t\t\t\t\t\t\t\t펼치기\n",
            "\n",
            "\n",
            "\n",
            "\n",
            "\n",
            "\n",
            " 20.07.20\n",
            "\n",
            "\n",
            "\n",
            " 09:50 인천공항11:12 인천 타구 동선(안심택시 이용)12:00 자차 이동14:00 계양구보건소 선별진료소15:00 자택\n",
            "\n",
            "\n",
            "\n",
            "\n",
            "\n",
            " 20.07.21\n",
            "\n",
            "\n",
            "\n",
            " 11:00 양성판정으로 인천의료원 이송*모든 동선 마스크 착용* 접촉자가 모두 확인된 곳은 상호명을 공개하지 않습니다.*출처 : 계양구청 홈페이지\n",
            "\n",
            "\n",
            "\n",
            "\n",
            "\n",
            "\n",
            "\n",
            "\n",
            "\r\n",
            "\t\t\t\t\t\t\t\t376. \r\n",
            "\t\t\t\t\t\t\t\t #13842\n",
            " 부평구\t\t\t\t\t\t\t\t\t\r\n",
            "\r\n",
            "\t\t\t\t\t\t\t\t(2020.07.21 / 타지역 확진자 접촉)\r\n",
            "\t\t\t\t\t\t\t\t펼치기\n",
            "\n",
            "\n",
            "\n",
            "\n",
            "\n",
            "\n",
            " 20.07.18\n",
            "\n",
            "\n",
            "\n",
            "  ⋅ 17:00  자택(부평4동) → 굴포천역 → 온수역 → 동묘역⋅ 18:30~23:00  관외동선(지인집, 지하철) → 동묘역⋅ 00:30  광역버스 정거장(삼산2동, 1200번 버스)⋅ 01:00(익일)  자택(부평4동, 도보)\n",
            "\n",
            "\n",
            "\n",
            "\n",
            "\n",
            " 20.07.19\n",
            "\n",
            "\n",
            "\n",
            " 자택에 머무름\n",
            "\n",
            "\n",
            "\n",
            "\n",
            "\n",
            " 20.07.20\n",
            "\n",
            "\n",
            "\n",
            "         ⋅ 16:40  자택(부평4동)⋅ 17:20  부평구보건소 선별진료소(도보)⋅ 18:10  자택(부평4동, 도보)\n",
            "\n",
            "\n",
            "\n",
            "\n",
            "\n",
            " 20.07.21\n",
            "\n",
            "\n",
            "\n",
            "          ⋅ 08:30  코로나19 양성판정으로 인하대병원 입원※ 모든 동선 마스크 착용※ 환자 자택 및 동선 방역소독 완료*출처: 부평구청 홈페이지\n",
            "\n",
            "\n",
            "\n",
            "\n",
            "\n",
            "\n"
          ],
          "name": "stdout"
        }
      ]
    },
    {
      "cell_type": "code",
      "metadata": {
        "id": "TCXRVgdt4Vj5",
        "colab_type": "code",
        "colab": {
          "base_uri": "https://localhost:8080/",
          "height": 34
        },
        "outputId": "8bb989bb-ecaf-4041-90d7-5f9911b3221a"
      },
      "source": [
        "len(lists)  # 총 확진자 수"
      ],
      "execution_count": null,
      "outputs": [
        {
          "output_type": "execute_result",
          "data": {
            "text/plain": [
              "380"
            ]
          },
          "metadata": {
            "tags": []
          },
          "execution_count": 17
        }
      ]
    },
    {
      "cell_type": "code",
      "metadata": {
        "id": "K4ZITR0u6FQG",
        "colab_type": "code",
        "colab": {
          "base_uri": "https://localhost:8080/",
          "height": 34
        },
        "outputId": "b7115584-460f-4a23-bafb-663cf0750017"
      },
      "source": [
        "tmp_one = soup.find_all('div', 'patient-profile-route-group')[0]\n",
        "type(tmp_one)"
      ],
      "execution_count": null,
      "outputs": [
        {
          "output_type": "execute_result",
          "data": {
            "text/plain": [
              "bs4.element.Tag"
            ]
          },
          "metadata": {
            "tags": []
          },
          "execution_count": 19
        }
      ]
    },
    {
      "cell_type": "code",
      "metadata": {
        "id": "TxSsPBND6VWM",
        "colab_type": "code",
        "colab": {
          "base_uri": "https://localhost:8080/",
          "height": 989
        },
        "outputId": "f4d49261-0bd2-4285-c808-4ce3d4dbed3d"
      },
      "source": [
        "tmp_one"
      ],
      "execution_count": null,
      "outputs": [
        {
          "output_type": "execute_result",
          "data": {
            "text/plain": [
              "<div class=\"patient-profile-route-group\">\n",
              "<div class=\"patient-profile-wrap\">\n",
              "<a class=\"patinet-profile\" href=\"#\">\n",
              "\t\t\t\t\t\t\t\t380. \n",
              "\t\t\t\t\t\t\t\t<strong style=\"font-family: inherit;\"> #미정</strong>\n",
              "<strong> 서구</strong>\t\t\t\t\t\t\t\t\t\n",
              "\n",
              "\t\t\t\t\t\t\t\t(2020.07.22 / 인천 확진자(375) 접촉)\n",
              "\t\t\t\t\t\t\t\t<span class=\"btn-more\"><em>펼치기</em></span>\n",
              "</a>\n",
              "</div>\n",
              "<div class=\"patient-route-wrap\">\n",
              "<ol class=\"patient-daily-route\">\n",
              "<li>\n",
              "<div class=\"patient-date\">\n",
              "<span> 20.07.19</span>\n",
              "</div>\n",
              "<div class=\"patient-route\">\n",
              "<p class=\"txt-red\">\n",
              "<font color=\"#000000\"> <p>자택에 머무름<br/></p></font>\n",
              "</p>\n",
              "</div>\n",
              "</li>\n",
              "<li>\n",
              "<div class=\"patient-date\">\n",
              "<span> 20.07.20</span>\n",
              "</div>\n",
              "<div class=\"patient-route\">\n",
              "<p class=\"txt-red\">\n",
              "<font color=\"#000000\"> <p style=\"font-family: inherit;\"><strong style=\"font-family: inherit;\">13:00–20:00</strong> 가게 출근<br style=\"font-family: inherit;\"/></p></font>\n",
              "</p>\n",
              "</div>\n",
              "</li>\n",
              "<li>\n",
              "<div class=\"patient-date\">\n",
              "<span> 20.07.21</span>\n",
              "</div>\n",
              "<div class=\"patient-route\">\n",
              "<p class=\"txt-red\">\n",
              "<font color=\"#000000\"> <p style=\"font-family: inherit;\"><strong style=\"font-family: inherit;\">16:00</strong>            서구보건소 선별진료소 검사<br style=\"font-family: inherit;\"/></p></font>\n",
              "</p>\n",
              "</div>\n",
              "</li>\n",
              "<li>\n",
              "<div class=\"patient-date\">\n",
              "<span> 20.07.22</span>\n",
              "</div>\n",
              "<div class=\"patient-route\">\n",
              "<p class=\"txt-red\">\n",
              "<font color=\"#000000\"> <p style=\"font-family: inherit;\"><strong style=\"font-family: inherit;\">05:00</strong>            양성통보<br style=\"font-family: inherit;\"/><strong style=\"font-family: inherit;\">06:00            </strong>인천의료원으로 이송</p><p style=\"font-family: inherit;\"><br/></p><p style=\"font-family: inherit;\"><br/></p><p style=\"font-family: inherit;\">*거주지 및 주변지역, 매장 및 정서진중앙시장 방역실시</p><p style=\"font-family: inherit;\">*출처 : 서구청 홈페이지<br style=\"font-family: inherit;\"/></p></font>\n",
              "</p>\n",
              "</div>\n",
              "</li>\n",
              "</ol>\n",
              "</div>\n",
              "</div>"
            ]
          },
          "metadata": {
            "tags": []
          },
          "execution_count": 35
        }
      ]
    },
    {
      "cell_type": "code",
      "metadata": {
        "id": "7D7L8i7i6zvA",
        "colab_type": "code",
        "colab": {
          "base_uri": "https://localhost:8080/",
          "height": 207
        },
        "outputId": "be0b7a78-974e-4e53-c65e-0befb8b646fa"
      },
      "source": [
        "tmp_one.find(class_='patient-profile-wrap')\n",
        "  # 링크가 들어있는 class"
      ],
      "execution_count": null,
      "outputs": [
        {
          "output_type": "execute_result",
          "data": {
            "text/plain": [
              "<div class=\"patient-profile-wrap\">\n",
              "<a class=\"patinet-profile\" href=\"#\">\n",
              "\t\t\t\t\t\t\t\t380. \n",
              "\t\t\t\t\t\t\t\t<strong style=\"font-family: inherit;\"> #미정</strong>\n",
              "<strong> 서구</strong>\t\t\t\t\t\t\t\t\t\n",
              "\n",
              "\t\t\t\t\t\t\t\t(2020.07.22 / 인천 확진자(375) 접촉)\n",
              "\t\t\t\t\t\t\t\t<span class=\"btn-more\"><em>펼치기</em></span>\n",
              "</a>\n",
              "</div>"
            ]
          },
          "metadata": {
            "tags": []
          },
          "execution_count": 38
        }
      ]
    },
    {
      "cell_type": "code",
      "metadata": {
        "id": "1dllbbt37AHG",
        "colab_type": "code",
        "colab": {
          "base_uri": "https://localhost:8080/",
          "height": 52
        },
        "outputId": "a786fd02-2e9e-4180-d0ab-07d9fa137f05"
      },
      "source": [
        "tmp_one.find(class_='patient-profile-wrap').get_text()"
      ],
      "execution_count": null,
      "outputs": [
        {
          "output_type": "execute_result",
          "data": {
            "application/vnd.google.colaboratory.intrinsic+json": {
              "type": "string"
            },
            "text/plain": [
              "'\\n\\r\\n\\t\\t\\t\\t\\t\\t\\t\\t380.\\xa0\\r\\n\\t\\t\\t\\t\\t\\t\\t\\t #미정\\n 서구\\t\\t\\t\\t\\t\\t\\t\\t\\t\\r\\n\\r\\n\\t\\t\\t\\t\\t\\t\\t\\t(2020.07.22 / 인천 확진자(375) 접촉)\\r\\n\\t\\t\\t\\t\\t\\t\\t\\t펼치기\\n\\n'"
            ]
          },
          "metadata": {
            "tags": []
          },
          "execution_count": 39
        }
      ]
    },
    {
      "cell_type": "code",
      "metadata": {
        "id": "XOWMf5Ti7pun",
        "colab_type": "code",
        "colab": {
          "base_uri": "https://localhost:8080/",
          "height": 989
        },
        "outputId": "24e2aa57-4219-43f6-9ba7-685023761eac"
      },
      "source": [
        "tmp_one"
      ],
      "execution_count": null,
      "outputs": [
        {
          "output_type": "execute_result",
          "data": {
            "text/plain": [
              "<div class=\"patient-profile-route-group\">\n",
              "<div class=\"patient-profile-wrap\">\n",
              "<a class=\"patinet-profile\" href=\"#\">\n",
              "\t\t\t\t\t\t\t\t380. \n",
              "\t\t\t\t\t\t\t\t<strong style=\"font-family: inherit;\"> #미정</strong>\n",
              "<strong> 서구</strong>\t\t\t\t\t\t\t\t\t\n",
              "\n",
              "\t\t\t\t\t\t\t\t(2020.07.22 / 인천 확진자(375) 접촉)\n",
              "\t\t\t\t\t\t\t\t<span class=\"btn-more\"><em>펼치기</em></span>\n",
              "</a>\n",
              "</div>\n",
              "<div class=\"patient-route-wrap\">\n",
              "<ol class=\"patient-daily-route\">\n",
              "<li>\n",
              "<div class=\"patient-date\">\n",
              "<span> 20.07.19</span>\n",
              "</div>\n",
              "<div class=\"patient-route\">\n",
              "<p class=\"txt-red\">\n",
              "<font color=\"#000000\"> <p>자택에 머무름<br/></p></font>\n",
              "</p>\n",
              "</div>\n",
              "</li>\n",
              "<li>\n",
              "<div class=\"patient-date\">\n",
              "<span> 20.07.20</span>\n",
              "</div>\n",
              "<div class=\"patient-route\">\n",
              "<p class=\"txt-red\">\n",
              "<font color=\"#000000\"> <p style=\"font-family: inherit;\"><strong style=\"font-family: inherit;\">13:00–20:00</strong> 가게 출근<br style=\"font-family: inherit;\"/></p></font>\n",
              "</p>\n",
              "</div>\n",
              "</li>\n",
              "<li>\n",
              "<div class=\"patient-date\">\n",
              "<span> 20.07.21</span>\n",
              "</div>\n",
              "<div class=\"patient-route\">\n",
              "<p class=\"txt-red\">\n",
              "<font color=\"#000000\"> <p style=\"font-family: inherit;\"><strong style=\"font-family: inherit;\">16:00</strong>            서구보건소 선별진료소 검사<br style=\"font-family: inherit;\"/></p></font>\n",
              "</p>\n",
              "</div>\n",
              "</li>\n",
              "<li>\n",
              "<div class=\"patient-date\">\n",
              "<span> 20.07.22</span>\n",
              "</div>\n",
              "<div class=\"patient-route\">\n",
              "<p class=\"txt-red\">\n",
              "<font color=\"#000000\"> <p style=\"font-family: inherit;\"><strong style=\"font-family: inherit;\">05:00</strong>            양성통보<br style=\"font-family: inherit;\"/><strong style=\"font-family: inherit;\">06:00            </strong>인천의료원으로 이송</p><p style=\"font-family: inherit;\"><br/></p><p style=\"font-family: inherit;\"><br/></p><p style=\"font-family: inherit;\">*거주지 및 주변지역, 매장 및 정서진중앙시장 방역실시</p><p style=\"font-family: inherit;\">*출처 : 서구청 홈페이지<br style=\"font-family: inherit;\"/></p></font>\n",
              "</p>\n",
              "</div>\n",
              "</li>\n",
              "</ol>\n",
              "</div>\n",
              "</div>"
            ]
          },
          "metadata": {
            "tags": []
          },
          "execution_count": 27
        }
      ]
    },
    {
      "cell_type": "code",
      "metadata": {
        "id": "cQeLVKDc8aWg",
        "colab_type": "code",
        "colab": {
          "base_uri": "https://localhost:8080/",
          "height": 204
        },
        "outputId": "de300463-2437-4f77-a2d3-04caafc18c0e"
      },
      "source": [
        "import re \n",
        "\n",
        "tmp_string = tmp_one.find(class_='patient-profile-wrap').get_text()\n",
        "re.split('\\xa0|\\r\\n\\t\\t\\t\\t\\t\\t\\t\\t|\\n|\\t\\t\\t\\t\\t\\t\\t\\t\\t\\r\\n', tmp_string) # 정규 표현식 split 명령"
      ],
      "execution_count": null,
      "outputs": [
        {
          "output_type": "execute_result",
          "data": {
            "text/plain": [
              "['',\n",
              " '',\n",
              " '380.',\n",
              " '',\n",
              " ' #미정',\n",
              " ' 서구',\n",
              " '',\n",
              " '(2020.07.22 / 인천 확진자(375) 접촉)',\n",
              " '펼치기',\n",
              " '',\n",
              " '']"
            ]
          },
          "metadata": {
            "tags": []
          },
          "execution_count": 42
        }
      ]
    },
    {
      "cell_type": "code",
      "metadata": {
        "id": "auADtycq_JdQ",
        "colab_type": "code",
        "colab": {
          "base_uri": "https://localhost:8080/",
          "height": 35
        },
        "outputId": "782773ed-3c78-424f-acb5-ca39b131fa65"
      },
      "source": [
        "re.split('\\xa0|\\r\\n\\t\\t\\t\\t\\t\\t\\t\\t|\\n|\\t\\t\\t\\t\\t\\t\\t\\t\\t\\r\\n', tmp_string)[2]\n",
        "#인천 내 몇번째 확진자인지"
      ],
      "execution_count": null,
      "outputs": [
        {
          "output_type": "execute_result",
          "data": {
            "application/vnd.google.colaboratory.intrinsic+json": {
              "type": "string"
            },
            "text/plain": [
              "'380.'"
            ]
          },
          "metadata": {
            "tags": []
          },
          "execution_count": 43
        }
      ]
    },
    {
      "cell_type": "code",
      "metadata": {
        "id": "nCh3nL7Z_V1G",
        "colab_type": "code",
        "colab": {
          "base_uri": "https://localhost:8080/",
          "height": 35
        },
        "outputId": "cd9d62f1-b3cb-47f5-f9ac-b070e3f1132a"
      },
      "source": [
        "re.split('\\xa0|\\r\\n\\t\\t\\t\\t\\t\\t\\t\\t|\\n|\\t\\t\\t\\t\\t\\t\\t\\t\\t\\r\\n', tmp_string)[5]\n",
        "#지역"
      ],
      "execution_count": null,
      "outputs": [
        {
          "output_type": "execute_result",
          "data": {
            "application/vnd.google.colaboratory.intrinsic+json": {
              "type": "string"
            },
            "text/plain": [
              "' 서구'"
            ]
          },
          "metadata": {
            "tags": []
          },
          "execution_count": 44
        }
      ]
    },
    {
      "cell_type": "code",
      "metadata": {
        "id": "x1pUEMWn_bkn",
        "colab_type": "code",
        "colab": {
          "base_uri": "https://localhost:8080/",
          "height": 35
        },
        "outputId": "cbcf2639-58ff-4125-8b06-64b084c7c45f"
      },
      "source": [
        "re.split('\\xa0|\\r\\n\\t\\t\\t\\t\\t\\t\\t\\t|\\n|\\t\\t\\t\\t\\t\\t\\t\\t\\t\\r\\n', tmp_string)[7]\n",
        "#감염 경위"
      ],
      "execution_count": null,
      "outputs": [
        {
          "output_type": "execute_result",
          "data": {
            "application/vnd.google.colaboratory.intrinsic+json": {
              "type": "string"
            },
            "text/plain": [
              "'(2020.07.22 / 인천 확진자(375) 접촉)'"
            ]
          },
          "metadata": {
            "tags": []
          },
          "execution_count": 45
        }
      ]
    },
    {
      "cell_type": "code",
      "metadata": {
        "id": "uI3U5NEq_uWh",
        "colab_type": "code",
        "colab": {}
      },
      "source": [
        "number = []\n",
        "area = []\n",
        "profile = []\n",
        "\n",
        "list_soup = soup.find_all('div', 'patient-profile-route-group')\n",
        "for item in list_soup:\n",
        "  tmp_string = item.find(class_='patient-profile-wrap').get_text()\n",
        "  number.append(re.split('\\xa0|\\r\\n\\t\\t\\t\\t\\t\\t\\t\\t|\\n|\\t\\t\\t\\t\\t\\t\\t\\t\\t\\r\\n', tmp_string)[2]\n",
        ")\n",
        "  area.append(re.split('\\xa0|\\r\\n\\t\\t\\t\\t\\t\\t\\t\\t|\\n|\\t\\t\\t\\t\\t\\t\\t\\t\\t\\r\\n', tmp_string)[5]\n",
        ")\n",
        "  profile.append(re.split('\\xa0|\\r\\n\\t\\t\\t\\t\\t\\t\\t\\t|\\n|\\t\\t\\t\\t\\t\\t\\t\\t\\t\\r\\n', tmp_string)[7]\n",
        ")"
      ],
      "execution_count": null,
      "outputs": []
    },
    {
      "cell_type": "code",
      "metadata": {
        "id": "9LIG1JVRAvCG",
        "colab_type": "code",
        "colab": {
          "base_uri": "https://localhost:8080/",
          "height": 34
        },
        "outputId": "4cb6bffd-aecd-40cf-a04a-2d90cbe53be9"
      },
      "source": [
        "number[:5]  # 데이터 확인"
      ],
      "execution_count": null,
      "outputs": [
        {
          "output_type": "execute_result",
          "data": {
            "text/plain": [
              "['380.', '379.', '378.', '377.', '376.']"
            ]
          },
          "metadata": {
            "tags": []
          },
          "execution_count": 47
        }
      ]
    },
    {
      "cell_type": "code",
      "metadata": {
        "id": "D4MA9Hd8Ayp9",
        "colab_type": "code",
        "colab": {
          "base_uri": "https://localhost:8080/",
          "height": 34
        },
        "outputId": "ebe4e1c6-3a48-4009-8e2a-147c2b9d2cda"
      },
      "source": [
        "area[:4]"
      ],
      "execution_count": null,
      "outputs": [
        {
          "output_type": "execute_result",
          "data": {
            "text/plain": [
              "[' 서구', ' 연수구', ' 서구', ' 계양구']"
            ]
          },
          "metadata": {
            "tags": []
          },
          "execution_count": 48
        }
      ]
    },
    {
      "cell_type": "code",
      "metadata": {
        "id": "8wnneEdSA17C",
        "colab_type": "code",
        "colab": {
          "base_uri": "https://localhost:8080/",
          "height": 34
        },
        "outputId": "45871214-4a5e-4f64-8d1a-1e1db6deba94"
      },
      "source": [
        "len(number), len(area), len(profile)  # 총 수"
      ],
      "execution_count": null,
      "outputs": [
        {
          "output_type": "execute_result",
          "data": {
            "text/plain": [
              "(380, 380, 380)"
            ]
          },
          "metadata": {
            "tags": []
          },
          "execution_count": 49
        }
      ]
    },
    {
      "cell_type": "code",
      "metadata": {
        "id": "0r7UgzZNA74Q",
        "colab_type": "code",
        "colab": {
          "base_uri": "https://localhost:8080/",
          "height": 204
        },
        "outputId": "eeb894c9-7363-454f-8eb1-37ad3b86dc5f"
      },
      "source": [
        "import pandas as pd \n",
        "\n",
        "data = {'Number': number, 'Area': area, 'Infection':profile}\n",
        "df=pd.DataFrame(data)\n",
        "df.head() #데이터 프레임 만들기"
      ],
      "execution_count": null,
      "outputs": [
        {
          "output_type": "execute_result",
          "data": {
            "text/html": [
              "<div>\n",
              "<style scoped>\n",
              "    .dataframe tbody tr th:only-of-type {\n",
              "        vertical-align: middle;\n",
              "    }\n",
              "\n",
              "    .dataframe tbody tr th {\n",
              "        vertical-align: top;\n",
              "    }\n",
              "\n",
              "    .dataframe thead th {\n",
              "        text-align: right;\n",
              "    }\n",
              "</style>\n",
              "<table border=\"1\" class=\"dataframe\">\n",
              "  <thead>\n",
              "    <tr style=\"text-align: right;\">\n",
              "      <th></th>\n",
              "      <th>Number</th>\n",
              "      <th>Area</th>\n",
              "      <th>Infection</th>\n",
              "    </tr>\n",
              "  </thead>\n",
              "  <tbody>\n",
              "    <tr>\n",
              "      <th>0</th>\n",
              "      <td>380.</td>\n",
              "      <td>서구</td>\n",
              "      <td>(2020.07.22 / 인천 확진자(375) 접촉)</td>\n",
              "    </tr>\n",
              "    <tr>\n",
              "      <th>1</th>\n",
              "      <td>379.</td>\n",
              "      <td>연수구</td>\n",
              "      <td>(2020.07.22 / 해외입국(카자흐스탄))</td>\n",
              "    </tr>\n",
              "    <tr>\n",
              "      <th>2</th>\n",
              "      <td>378.</td>\n",
              "      <td>서구</td>\n",
              "      <td>(2020.07.22 / 인천 확진자(375) 접촉)</td>\n",
              "    </tr>\n",
              "    <tr>\n",
              "      <th>3</th>\n",
              "      <td>377.</td>\n",
              "      <td>계양구</td>\n",
              "      <td>(202.07.21 / 해외입국(카자흐스탄))</td>\n",
              "    </tr>\n",
              "    <tr>\n",
              "      <th>4</th>\n",
              "      <td>376.</td>\n",
              "      <td>부평구</td>\n",
              "      <td>(2020.07.21 / 타지역 확진자 접촉)</td>\n",
              "    </tr>\n",
              "  </tbody>\n",
              "</table>\n",
              "</div>"
            ],
            "text/plain": [
              "  Number  Area                      Infection\n",
              "0   380.    서구  (2020.07.22 / 인천 확진자(375) 접촉)\n",
              "1   379.   연수구     (2020.07.22 / 해외입국(카자흐스탄))\n",
              "2   378.    서구  (2020.07.22 / 인천 확진자(375) 접촉)\n",
              "3   377.   계양구      (202.07.21 / 해외입국(카자흐스탄))\n",
              "4   376.   부평구      (2020.07.21 / 타지역 확진자 접촉)"
            ]
          },
          "metadata": {
            "tags": []
          },
          "execution_count": 50
        }
      ]
    },
    {
      "cell_type": "code",
      "metadata": {
        "id": "eQLL8tcfBcOI",
        "colab_type": "code",
        "colab": {}
      },
      "source": [
        "df.to_csv('Incheon_infection.csv', sep=',', encoding='utf-8')"
      ],
      "execution_count": null,
      "outputs": []
    }
  ]
}