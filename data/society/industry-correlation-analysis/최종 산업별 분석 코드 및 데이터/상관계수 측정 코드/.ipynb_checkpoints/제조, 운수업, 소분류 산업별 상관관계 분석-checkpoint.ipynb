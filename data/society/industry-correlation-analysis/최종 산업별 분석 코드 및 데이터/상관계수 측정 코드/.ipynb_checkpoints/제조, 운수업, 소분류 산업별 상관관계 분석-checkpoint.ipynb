{
 "cells": [
  {
   "cell_type": "code",
   "execution_count": null,
   "metadata": {
    "colab": {},
    "colab_type": "code",
    "id": "L4SJs1JgGBfi"
   },
   "outputs": [],
   "source": [
    "import pandas as pd\n",
    "import numpy as np"
   ]
  },
  {
   "cell_type": "markdown",
   "metadata": {
    "colab_type": "text",
    "id": "AY8RoHh2K4_w"
   },
   "source": [
    "## **상관계수 분석**\n",
    "상관계수: 두 변수 x값과 y값을 z값으로 표준화해 Zx * Zy를 모두 더한다음, n(총 개수)으로 나눠준 것\n",
    "\n",
    "*   0 ~ 0.2 : 매우 약한 상관관계\n",
    "*   0.2 ~ 0.4 : 약한 상관관계\n",
    "*   0.4 ~ 0.6 : 어느 정도의 상관관계\n",
    "*   0.6 ~ 0.8 : 강한 상관관계\n",
    "*   0.8 ~ 1.0 : 매우 강한 상관관계\n",
    "\n",
    "상관계수의 범위는 -1부터 1까지 음수가 나오면 음의 상관관계, 양수가 나오면 양의 상관관계"
   ]
  },
  {
   "cell_type": "markdown",
   "metadata": {
    "colab_type": "text",
    "id": "nbZpo8pxKyIQ"
   },
   "source": [
    "# **제조업**"
   ]
  },
  {
   "cell_type": "code",
   "execution_count": null,
   "metadata": {
    "colab": {
     "base_uri": "https://localhost:8080/",
     "height": 306
    },
    "colab_type": "code",
    "executionInfo": {
     "elapsed": 602,
     "status": "ok",
     "timestamp": 1595498268066,
     "user": {
      "displayName": "saetbyeol leeyouk",
      "photoUrl": "https://lh3.googleusercontent.com/a-/AOh14Ghyw_A03ZJ0pN55diTlXjRXyRWOM8glptwYwLKSQQ=s64",
      "userId": "05797582779608546462"
     },
     "user_tz": -540
    },
    "id": "yfV_paMnGNt3",
    "outputId": "9a0ddd11-c621-4581-e44d-690e1b0f920a"
   },
   "outputs": [
    {
     "data": {
      "text/html": [
       "<div>\n",
       "<style scoped>\n",
       "    .dataframe tbody tr th:only-of-type {\n",
       "        vertical-align: middle;\n",
       "    }\n",
       "\n",
       "    .dataframe tbody tr th {\n",
       "        vertical-align: top;\n",
       "    }\n",
       "\n",
       "    .dataframe thead th {\n",
       "        text-align: right;\n",
       "    }\n",
       "</style>\n",
       "<table border=\"1\" class=\"dataframe\">\n",
       "  <thead>\n",
       "    <tr style=\"text-align: right;\">\n",
       "      <th></th>\n",
       "      <th>산업분류</th>\n",
       "      <th>ID</th>\n",
       "      <th>지역</th>\n",
       "      <th>행정구역</th>\n",
       "      <th>인구 수</th>\n",
       "      <th>확진자 수</th>\n",
       "      <th>총사업체수</th>\n",
       "      <th>총종사자수</th>\n",
       "      <th>인구 대비 확진자 수</th>\n",
       "      <th>인구 대비 산업체 수</th>\n",
       "      <th>인구 대비 산업체 종사자 수</th>\n",
       "      <th>종사자수 대비 산업체 수</th>\n",
       "    </tr>\n",
       "  </thead>\n",
       "  <tbody>\n",
       "    <tr>\n",
       "      <th>0</th>\n",
       "      <td>제조업(10~34)</td>\n",
       "      <td>서울 종로</td>\n",
       "      <td>서울</td>\n",
       "      <td>종로구</td>\n",
       "      <td>157967</td>\n",
       "      <td>27</td>\n",
       "      <td>4437</td>\n",
       "      <td>13071</td>\n",
       "      <td>0.017092</td>\n",
       "      <td>2.808814</td>\n",
       "      <td>8.274513</td>\n",
       "      <td>33.945375</td>\n",
       "    </tr>\n",
       "    <tr>\n",
       "      <th>1</th>\n",
       "      <td>제조업(10~34)</td>\n",
       "      <td>서울 중구</td>\n",
       "      <td>서울</td>\n",
       "      <td>중구</td>\n",
       "      <td>129797</td>\n",
       "      <td>18</td>\n",
       "      <td>9369</td>\n",
       "      <td>29402</td>\n",
       "      <td>0.013868</td>\n",
       "      <td>7.218195</td>\n",
       "      <td>22.652296</td>\n",
       "      <td>31.865179</td>\n",
       "    </tr>\n",
       "    <tr>\n",
       "      <th>2</th>\n",
       "      <td>제조업(10~34)</td>\n",
       "      <td>서울 용산</td>\n",
       "      <td>서울</td>\n",
       "      <td>용산구</td>\n",
       "      <td>226938</td>\n",
       "      <td>53</td>\n",
       "      <td>964</td>\n",
       "      <td>3181</td>\n",
       "      <td>0.023354</td>\n",
       "      <td>0.424786</td>\n",
       "      <td>1.401704</td>\n",
       "      <td>30.304936</td>\n",
       "    </tr>\n",
       "    <tr>\n",
       "      <th>3</th>\n",
       "      <td>제조업(10~34)</td>\n",
       "      <td>서울 성동</td>\n",
       "      <td>서울</td>\n",
       "      <td>성동구</td>\n",
       "      <td>306796</td>\n",
       "      <td>57</td>\n",
       "      <td>4444</td>\n",
       "      <td>27062</td>\n",
       "      <td>0.018579</td>\n",
       "      <td>1.448520</td>\n",
       "      <td>8.820845</td>\n",
       "      <td>16.421551</td>\n",
       "    </tr>\n",
       "    <tr>\n",
       "      <th>4</th>\n",
       "      <td>제조업(10~34)</td>\n",
       "      <td>서울 광진</td>\n",
       "      <td>서울</td>\n",
       "      <td>광진구</td>\n",
       "      <td>362304</td>\n",
       "      <td>22</td>\n",
       "      <td>1707</td>\n",
       "      <td>7198</td>\n",
       "      <td>0.006072</td>\n",
       "      <td>0.471151</td>\n",
       "      <td>1.986729</td>\n",
       "      <td>23.714921</td>\n",
       "    </tr>\n",
       "  </tbody>\n",
       "</table>\n",
       "</div>"
      ],
      "text/plain": [
       "         산업분류     ID  지역  ... 인구 대비 산업체 수  인구 대비 산업체 종사자 수  종사자수 대비 산업체 수\n",
       "0  제조업(10~34)  서울 종로  서울  ...    2.808814         8.274513      33.945375\n",
       "1  제조업(10~34)  서울 중구  서울  ...    7.218195        22.652296      31.865179\n",
       "2  제조업(10~34)  서울 용산  서울  ...    0.424786         1.401704      30.304936\n",
       "3  제조업(10~34)  서울 성동  서울  ...    1.448520         8.820845      16.421551\n",
       "4  제조업(10~34)  서울 광진  서울  ...    0.471151         1.986729      23.714921\n",
       "\n",
       "[5 rows x 12 columns]"
      ]
     },
     "execution_count": 3,
     "metadata": {
      "tags": []
     },
     "output_type": "execute_result"
    }
   ],
   "source": [
    "#파일 불러오기\n",
    "df = pd.read_csv('/content/drive/My Drive/최종-대분류-산업별-데이터-0.csv', index_col=0, encoding='UTF-8')\n",
    "df.head()"
   ]
  },
  {
   "cell_type": "code",
   "execution_count": null,
   "metadata": {
    "colab": {},
    "colab_type": "code",
    "id": "ZkF6WPmsGu65"
   },
   "outputs": [],
   "source": [
    "df = df.drop(['지역', '행정구역'], axis=1)"
   ]
  },
  {
   "cell_type": "code",
   "execution_count": null,
   "metadata": {
    "colab": {
     "base_uri": "https://localhost:8080/",
     "height": 53
    },
    "colab_type": "code",
    "executionInfo": {
     "elapsed": 563,
     "status": "ok",
     "timestamp": 1595498505289,
     "user": {
      "displayName": "saetbyeol leeyouk",
      "photoUrl": "https://lh3.googleusercontent.com/a-/AOh14Ghyw_A03ZJ0pN55diTlXjRXyRWOM8glptwYwLKSQQ=s64",
      "userId": "05797582779608546462"
     },
     "user_tz": -540
    },
    "id": "qzWOuK67G-Mu",
    "outputId": "d71e41a4-c379-4737-8472-fde303119bfc"
   },
   "outputs": [
    {
     "data": {
      "text/plain": [
       "array([[1.        , 0.05100557],\n",
       "       [0.05100557, 1.        ]])"
      ]
     },
     "execution_count": 6,
     "metadata": {
      "tags": []
     },
     "output_type": "execute_result"
    }
   ],
   "source": [
    "np.corrcoef(df['인구 대비 산업체 수'], df['인구 대비 확진자 수'])\n",
    "#매우 약한 상관관계<-관계 거의 없음"
   ]
  },
  {
   "cell_type": "code",
   "execution_count": null,
   "metadata": {
    "colab": {
     "base_uri": "https://localhost:8080/",
     "height": 53
    },
    "colab_type": "code",
    "executionInfo": {
     "elapsed": 660,
     "status": "ok",
     "timestamp": 1595498580793,
     "user": {
      "displayName": "saetbyeol leeyouk",
      "photoUrl": "https://lh3.googleusercontent.com/a-/AOh14Ghyw_A03ZJ0pN55diTlXjRXyRWOM8glptwYwLKSQQ=s64",
      "userId": "05797582779608546462"
     },
     "user_tz": -540
    },
    "id": "xfz8zqYsHyHj",
    "outputId": "1d2c4fb0-8464-4779-ffc7-4ed524bfc66f"
   },
   "outputs": [
    {
     "data": {
      "text/plain": [
       "array([[ 1.        , -0.03167564],\n",
       "       [-0.03167564,  1.        ]])"
      ]
     },
     "execution_count": 7,
     "metadata": {
      "tags": []
     },
     "output_type": "execute_result"
    }
   ],
   "source": [
    "np.corrcoef(df['인구 대비 산업체 종사자 수'], df['인구 대비 확진자 수'])\n",
    "#매우 약한 음의 상관관계 <- 관계 거의 없음"
   ]
  },
  {
   "cell_type": "code",
   "execution_count": null,
   "metadata": {
    "colab": {
     "base_uri": "https://localhost:8080/",
     "height": 53
    },
    "colab_type": "code",
    "executionInfo": {
     "elapsed": 625,
     "status": "ok",
     "timestamp": 1595498628106,
     "user": {
      "displayName": "saetbyeol leeyouk",
      "photoUrl": "https://lh3.googleusercontent.com/a-/AOh14Ghyw_A03ZJ0pN55diTlXjRXyRWOM8glptwYwLKSQQ=s64",
      "userId": "05797582779608546462"
     },
     "user_tz": -540
    },
    "id": "ionUwfgxIEh1",
    "outputId": "3f9695a2-eb0b-474c-bb35-0eae52501b1c"
   },
   "outputs": [
    {
     "data": {
      "text/plain": [
       "array([[1.        , 0.17474401],\n",
       "       [0.17474401, 1.        ]])"
      ]
     },
     "execution_count": 9,
     "metadata": {
      "tags": []
     },
     "output_type": "execute_result"
    }
   ],
   "source": [
    "np.corrcoef(df['종사자수 대비 산업체 수'], df['인구 대비 확진자 수'])\n",
    "#매우 약한 상관관계<-관계 거의 없음"
   ]
  },
  {
   "cell_type": "code",
   "execution_count": null,
   "metadata": {
    "colab": {
     "base_uri": "https://localhost:8080/",
     "height": 306
    },
    "colab_type": "code",
    "executionInfo": {
     "elapsed": 617,
     "status": "ok",
     "timestamp": 1595499077188,
     "user": {
      "displayName": "saetbyeol leeyouk",
      "photoUrl": "https://lh3.googleusercontent.com/a-/AOh14Ghyw_A03ZJ0pN55diTlXjRXyRWOM8glptwYwLKSQQ=s64",
      "userId": "05797582779608546462"
     },
     "user_tz": -540
    },
    "id": "X0jMspDUIOXu",
    "outputId": "414f1292-fa23-44d3-9fbd-7d5d38a3d44b"
   },
   "outputs": [
    {
     "data": {
      "text/html": [
       "<div>\n",
       "<style scoped>\n",
       "    .dataframe tbody tr th:only-of-type {\n",
       "        vertical-align: middle;\n",
       "    }\n",
       "\n",
       "    .dataframe tbody tr th {\n",
       "        vertical-align: top;\n",
       "    }\n",
       "\n",
       "    .dataframe thead th {\n",
       "        text-align: right;\n",
       "    }\n",
       "</style>\n",
       "<table border=\"1\" class=\"dataframe\">\n",
       "  <thead>\n",
       "    <tr style=\"text-align: right;\">\n",
       "      <th></th>\n",
       "      <th>산업분류</th>\n",
       "      <th>ID</th>\n",
       "      <th>인구 수</th>\n",
       "      <th>확진자 수</th>\n",
       "      <th>총사업체수</th>\n",
       "      <th>총종사자수</th>\n",
       "      <th>인구 대비 확진자 수</th>\n",
       "      <th>인구 대비 산업체 수</th>\n",
       "      <th>인구 대비 산업체 종사자 수</th>\n",
       "      <th>종사자수 대비 산업체 수</th>\n",
       "    </tr>\n",
       "  </thead>\n",
       "  <tbody>\n",
       "    <tr>\n",
       "      <th>1</th>\n",
       "      <td>제조업(10~34)</td>\n",
       "      <td>서울 중구</td>\n",
       "      <td>129797</td>\n",
       "      <td>18</td>\n",
       "      <td>9369</td>\n",
       "      <td>29402</td>\n",
       "      <td>0.013868</td>\n",
       "      <td>7.218195</td>\n",
       "      <td>22.652296</td>\n",
       "      <td>31.865179</td>\n",
       "    </tr>\n",
       "    <tr>\n",
       "      <th>36</th>\n",
       "      <td>제조업(10~34)</td>\n",
       "      <td>부산 강서</td>\n",
       "      <td>121351</td>\n",
       "      <td>5</td>\n",
       "      <td>6477</td>\n",
       "      <td>69297</td>\n",
       "      <td>0.004120</td>\n",
       "      <td>5.337410</td>\n",
       "      <td>57.104597</td>\n",
       "      <td>9.346725</td>\n",
       "    </tr>\n",
       "    <tr>\n",
       "      <th>200</th>\n",
       "      <td>제조업(10~34)</td>\n",
       "      <td>고령</td>\n",
       "      <td>32660</td>\n",
       "      <td>10</td>\n",
       "      <td>1482</td>\n",
       "      <td>10769</td>\n",
       "      <td>0.030618</td>\n",
       "      <td>4.537661</td>\n",
       "      <td>32.973056</td>\n",
       "      <td>13.761723</td>\n",
       "    </tr>\n",
       "    <tr>\n",
       "      <th>220</th>\n",
       "      <td>제조업(10~34)</td>\n",
       "      <td>함안</td>\n",
       "      <td>67520</td>\n",
       "      <td>2</td>\n",
       "      <td>2605</td>\n",
       "      <td>23824</td>\n",
       "      <td>0.002962</td>\n",
       "      <td>3.858116</td>\n",
       "      <td>35.284360</td>\n",
       "      <td>10.934352</td>\n",
       "    </tr>\n",
       "    <tr>\n",
       "      <th>101</th>\n",
       "      <td>제조업(10~34)</td>\n",
       "      <td>포천</td>\n",
       "      <td>161564</td>\n",
       "      <td>34</td>\n",
       "      <td>5981</td>\n",
       "      <td>43667</td>\n",
       "      <td>0.021044</td>\n",
       "      <td>3.701939</td>\n",
       "      <td>27.027679</td>\n",
       "      <td>13.696842</td>\n",
       "    </tr>\n",
       "  </tbody>\n",
       "</table>\n",
       "</div>"
      ],
      "text/plain": [
       "           산업분류     ID    인구 수  ...  인구 대비 산업체 수  인구 대비 산업체 종사자 수  종사자수 대비 산업체 수\n",
       "1    제조업(10~34)  서울 중구  129797  ...     7.218195        22.652296      31.865179\n",
       "36   제조업(10~34)  부산 강서  121351  ...     5.337410        57.104597       9.346725\n",
       "200  제조업(10~34)     고령   32660  ...     4.537661        32.973056      13.761723\n",
       "220  제조업(10~34)     함안   67520  ...     3.858116        35.284360      10.934352\n",
       "101  제조업(10~34)     포천  161564  ...     3.701939        27.027679      13.696842\n",
       "\n",
       "[5 rows x 10 columns]"
      ]
     },
     "execution_count": 11,
     "metadata": {
      "tags": []
     },
     "output_type": "execute_result"
    }
   ],
   "source": [
    "df.sort_values(by='인구 대비 산업체 수', ascending=False).head()"
   ]
  },
  {
   "cell_type": "code",
   "execution_count": null,
   "metadata": {
    "colab": {
     "base_uri": "https://localhost:8080/",
     "height": 204
    },
    "colab_type": "code",
    "executionInfo": {
     "elapsed": 678,
     "status": "ok",
     "timestamp": 1595500633926,
     "user": {
      "displayName": "saetbyeol leeyouk",
      "photoUrl": "https://lh3.googleusercontent.com/a-/AOh14Ghyw_A03ZJ0pN55diTlXjRXyRWOM8glptwYwLKSQQ=s64",
      "userId": "05797582779608546462"
     },
     "user_tz": -540
    },
    "id": "1M6W0qnNPqVK",
    "outputId": "cc188b93-c6c0-4cfc-d619-03166d6ee9d8"
   },
   "outputs": [
    {
     "data": {
      "text/html": [
       "<div>\n",
       "<style scoped>\n",
       "    .dataframe tbody tr th:only-of-type {\n",
       "        vertical-align: middle;\n",
       "    }\n",
       "\n",
       "    .dataframe tbody tr th {\n",
       "        vertical-align: top;\n",
       "    }\n",
       "\n",
       "    .dataframe thead th {\n",
       "        text-align: right;\n",
       "    }\n",
       "</style>\n",
       "<table border=\"1\" class=\"dataframe\">\n",
       "  <thead>\n",
       "    <tr style=\"text-align: right;\">\n",
       "      <th></th>\n",
       "      <th>ID</th>\n",
       "      <th>인구 대비 확진자 수</th>\n",
       "      <th>인구 대비 산업체 수</th>\n",
       "      <th>인구 대비 산업체 종사자 수</th>\n",
       "      <th>종사자수 대비 산업체 수</th>\n",
       "    </tr>\n",
       "  </thead>\n",
       "  <tbody>\n",
       "    <tr>\n",
       "      <th>0</th>\n",
       "      <td>서울 종로</td>\n",
       "      <td>0.017092</td>\n",
       "      <td>2.808814</td>\n",
       "      <td>8.274513</td>\n",
       "      <td>33.945375</td>\n",
       "    </tr>\n",
       "    <tr>\n",
       "      <th>1</th>\n",
       "      <td>서울 중구</td>\n",
       "      <td>0.013868</td>\n",
       "      <td>7.218195</td>\n",
       "      <td>22.652296</td>\n",
       "      <td>31.865179</td>\n",
       "    </tr>\n",
       "    <tr>\n",
       "      <th>2</th>\n",
       "      <td>서울 용산</td>\n",
       "      <td>0.023354</td>\n",
       "      <td>0.424786</td>\n",
       "      <td>1.401704</td>\n",
       "      <td>30.304936</td>\n",
       "    </tr>\n",
       "    <tr>\n",
       "      <th>3</th>\n",
       "      <td>서울 성동</td>\n",
       "      <td>0.018579</td>\n",
       "      <td>1.448520</td>\n",
       "      <td>8.820845</td>\n",
       "      <td>16.421551</td>\n",
       "    </tr>\n",
       "    <tr>\n",
       "      <th>4</th>\n",
       "      <td>서울 광진</td>\n",
       "      <td>0.006072</td>\n",
       "      <td>0.471151</td>\n",
       "      <td>1.986729</td>\n",
       "      <td>23.714921</td>\n",
       "    </tr>\n",
       "  </tbody>\n",
       "</table>\n",
       "</div>"
      ],
      "text/plain": [
       "      ID  인구 대비 확진자 수  인구 대비 산업체 수  인구 대비 산업체 종사자 수  종사자수 대비 산업체 수\n",
       "0  서울 종로     0.017092     2.808814         8.274513      33.945375\n",
       "1  서울 중구     0.013868     7.218195        22.652296      31.865179\n",
       "2  서울 용산     0.023354     0.424786         1.401704      30.304936\n",
       "3  서울 성동     0.018579     1.448520         8.820845      16.421551\n",
       "4  서울 광진     0.006072     0.471151         1.986729      23.714921"
      ]
     },
     "execution_count": 33,
     "metadata": {
      "tags": []
     },
     "output_type": "execute_result"
    }
   ],
   "source": [
    "df = df.drop(['산업분류', '인구 수', '확진자 수', '총사업체수', '총종사자수'], axis=1)\n",
    "df.head()"
   ]
  },
  {
   "cell_type": "markdown",
   "metadata": {
    "colab_type": "text",
    "id": "X9T1dGuYMI6Z"
   },
   "source": [
    "# **운수 및 창고업**"
   ]
  },
  {
   "cell_type": "code",
   "execution_count": null,
   "metadata": {
    "colab": {
     "base_uri": "https://localhost:8080/",
     "height": 306
    },
    "colab_type": "code",
    "executionInfo": {
     "elapsed": 1487,
     "status": "ok",
     "timestamp": 1595499394135,
     "user": {
      "displayName": "saetbyeol leeyouk",
      "photoUrl": "https://lh3.googleusercontent.com/a-/AOh14Ghyw_A03ZJ0pN55diTlXjRXyRWOM8glptwYwLKSQQ=s64",
      "userId": "05797582779608546462"
     },
     "user_tz": -540
    },
    "id": "grjP9DGKKHPx",
    "outputId": "3a724259-60ef-4c8c-f4ce-7c165dd398e1"
   },
   "outputs": [
    {
     "data": {
      "text/html": [
       "<div>\n",
       "<style scoped>\n",
       "    .dataframe tbody tr th:only-of-type {\n",
       "        vertical-align: middle;\n",
       "    }\n",
       "\n",
       "    .dataframe tbody tr th {\n",
       "        vertical-align: top;\n",
       "    }\n",
       "\n",
       "    .dataframe thead th {\n",
       "        text-align: right;\n",
       "    }\n",
       "</style>\n",
       "<table border=\"1\" class=\"dataframe\">\n",
       "  <thead>\n",
       "    <tr style=\"text-align: right;\">\n",
       "      <th></th>\n",
       "      <th>산업분류</th>\n",
       "      <th>ID</th>\n",
       "      <th>지역</th>\n",
       "      <th>행정구역</th>\n",
       "      <th>인구 수</th>\n",
       "      <th>확진자 수</th>\n",
       "      <th>총사업체수</th>\n",
       "      <th>총종사자수</th>\n",
       "      <th>인구 대비 확진자 수</th>\n",
       "      <th>인구 대비 산업체 수</th>\n",
       "      <th>인구 대비 산업체 종사자 수</th>\n",
       "      <th>종사자수 대비 산업체 수</th>\n",
       "    </tr>\n",
       "  </thead>\n",
       "  <tbody>\n",
       "    <tr>\n",
       "      <th>0</th>\n",
       "      <td>운수 및 창고업(49~52)</td>\n",
       "      <td>서울 종로</td>\n",
       "      <td>서울</td>\n",
       "      <td>종로구</td>\n",
       "      <td>157967</td>\n",
       "      <td>27</td>\n",
       "      <td>1388</td>\n",
       "      <td>7260</td>\n",
       "      <td>0.017092</td>\n",
       "      <td>0.878665</td>\n",
       "      <td>4.595897</td>\n",
       "      <td>19.118457</td>\n",
       "    </tr>\n",
       "    <tr>\n",
       "      <th>1</th>\n",
       "      <td>운수 및 창고업(49~52)</td>\n",
       "      <td>서울 중구</td>\n",
       "      <td>서울</td>\n",
       "      <td>중구</td>\n",
       "      <td>129797</td>\n",
       "      <td>18</td>\n",
       "      <td>1547</td>\n",
       "      <td>14316</td>\n",
       "      <td>0.013868</td>\n",
       "      <td>1.191861</td>\n",
       "      <td>11.029531</td>\n",
       "      <td>10.806091</td>\n",
       "    </tr>\n",
       "    <tr>\n",
       "      <th>2</th>\n",
       "      <td>운수 및 창고업(49~52)</td>\n",
       "      <td>서울 용산</td>\n",
       "      <td>서울</td>\n",
       "      <td>용산구</td>\n",
       "      <td>226938</td>\n",
       "      <td>53</td>\n",
       "      <td>1251</td>\n",
       "      <td>3918</td>\n",
       "      <td>0.023354</td>\n",
       "      <td>0.551252</td>\n",
       "      <td>1.726463</td>\n",
       "      <td>31.929556</td>\n",
       "    </tr>\n",
       "    <tr>\n",
       "      <th>3</th>\n",
       "      <td>운수 및 창고업(49~52)</td>\n",
       "      <td>서울 성동</td>\n",
       "      <td>서울</td>\n",
       "      <td>성동구</td>\n",
       "      <td>306796</td>\n",
       "      <td>57</td>\n",
       "      <td>2629</td>\n",
       "      <td>8653</td>\n",
       "      <td>0.018579</td>\n",
       "      <td>0.856921</td>\n",
       "      <td>2.820441</td>\n",
       "      <td>30.382526</td>\n",
       "    </tr>\n",
       "    <tr>\n",
       "      <th>4</th>\n",
       "      <td>운수 및 창고업(49~52)</td>\n",
       "      <td>서울 광진</td>\n",
       "      <td>서울</td>\n",
       "      <td>광진구</td>\n",
       "      <td>362304</td>\n",
       "      <td>22</td>\n",
       "      <td>2519</td>\n",
       "      <td>5828</td>\n",
       "      <td>0.006072</td>\n",
       "      <td>0.695272</td>\n",
       "      <td>1.608594</td>\n",
       "      <td>43.222375</td>\n",
       "    </tr>\n",
       "  </tbody>\n",
       "</table>\n",
       "</div>"
      ],
      "text/plain": [
       "              산업분류     ID  지역  ... 인구 대비 산업체 수  인구 대비 산업체 종사자 수  종사자수 대비 산업체 수\n",
       "0  운수 및 창고업(49~52)  서울 종로  서울  ...    0.878665         4.595897      19.118457\n",
       "1  운수 및 창고업(49~52)  서울 중구  서울  ...    1.191861        11.029531      10.806091\n",
       "2  운수 및 창고업(49~52)  서울 용산  서울  ...    0.551252         1.726463      31.929556\n",
       "3  운수 및 창고업(49~52)  서울 성동  서울  ...    0.856921         2.820441      30.382526\n",
       "4  운수 및 창고업(49~52)  서울 광진  서울  ...    0.695272         1.608594      43.222375\n",
       "\n",
       "[5 rows x 12 columns]"
      ]
     },
     "execution_count": 13,
     "metadata": {
      "tags": []
     },
     "output_type": "execute_result"
    }
   ],
   "source": [
    "#파일 불러오기\n",
    "df2 = pd.read_csv('/content/drive/My Drive/최종-대분류-산업별-데이터-1.csv', index_col=0, encoding='UTF-8')\n",
    "df2.head()"
   ]
  },
  {
   "cell_type": "code",
   "execution_count": null,
   "metadata": {
    "colab": {
     "base_uri": "https://localhost:8080/",
     "height": 53
    },
    "colab_type": "code",
    "executionInfo": {
     "elapsed": 643,
     "status": "ok",
     "timestamp": 1595499410129,
     "user": {
      "displayName": "saetbyeol leeyouk",
      "photoUrl": "https://lh3.googleusercontent.com/a-/AOh14Ghyw_A03ZJ0pN55diTlXjRXyRWOM8glptwYwLKSQQ=s64",
      "userId": "05797582779608546462"
     },
     "user_tz": -540
    },
    "id": "MUP_3fecLK4l",
    "outputId": "20a9a69a-0645-4bbe-b3fe-89ef547b5d27"
   },
   "outputs": [
    {
     "data": {
      "text/plain": [
       "array([[1.        , 0.01992208],\n",
       "       [0.01992208, 1.        ]])"
      ]
     },
     "execution_count": 14,
     "metadata": {
      "tags": []
     },
     "output_type": "execute_result"
    }
   ],
   "source": [
    "np.corrcoef(df2['인구 대비 산업체 수'], df2['인구 대비 확진자 수'])\n",
    "#매우 약한 상관관계 <-관계 거의 없음"
   ]
  },
  {
   "cell_type": "code",
   "execution_count": null,
   "metadata": {
    "colab": {
     "base_uri": "https://localhost:8080/",
     "height": 53
    },
    "colab_type": "code",
    "executionInfo": {
     "elapsed": 586,
     "status": "ok",
     "timestamp": 1595499439702,
     "user": {
      "displayName": "saetbyeol leeyouk",
      "photoUrl": "https://lh3.googleusercontent.com/a-/AOh14Ghyw_A03ZJ0pN55diTlXjRXyRWOM8glptwYwLKSQQ=s64",
      "userId": "05797582779608546462"
     },
     "user_tz": -540
    },
    "id": "FbVR6hDwLPAX",
    "outputId": "60f26ba0-592d-478c-e72c-aba58cb2f905"
   },
   "outputs": [
    {
     "data": {
      "text/plain": [
       "array([[ 1.        , -0.03378918],\n",
       "       [-0.03378918,  1.        ]])"
      ]
     },
     "execution_count": 15,
     "metadata": {
      "tags": []
     },
     "output_type": "execute_result"
    }
   ],
   "source": [
    "np.corrcoef(df2['인구 대비 산업체 종사자 수'], df2['인구 대비 확진자 수'])\n",
    "#매우 약한 음의 상관관계 <- 관계 거의 없음"
   ]
  },
  {
   "cell_type": "code",
   "execution_count": null,
   "metadata": {
    "colab": {
     "base_uri": "https://localhost:8080/",
     "height": 53
    },
    "colab_type": "code",
    "executionInfo": {
     "elapsed": 714,
     "status": "ok",
     "timestamp": 1595499460449,
     "user": {
      "displayName": "saetbyeol leeyouk",
      "photoUrl": "https://lh3.googleusercontent.com/a-/AOh14Ghyw_A03ZJ0pN55diTlXjRXyRWOM8glptwYwLKSQQ=s64",
      "userId": "05797582779608546462"
     },
     "user_tz": -540
    },
    "id": "jFnhhLgVLWPg",
    "outputId": "f7bb9647-536d-439e-b553-7e0b9b34a7e2"
   },
   "outputs": [
    {
     "data": {
      "text/plain": [
       "array([[1.        , 0.09814335],\n",
       "       [0.09814335, 1.        ]])"
      ]
     },
     "execution_count": 16,
     "metadata": {
      "tags": []
     },
     "output_type": "execute_result"
    }
   ],
   "source": [
    "np.corrcoef(df2['종사자수 대비 산업체 수'], df2['인구 대비 확진자 수'])\n",
    "#매우 약한 상관관계<-관계 거의 없음"
   ]
  },
  {
   "cell_type": "markdown",
   "metadata": {
    "colab_type": "text",
    "id": "oajDwYbxVgWE"
   },
   "source": [
    "# **소분류 산업별 데이터**"
   ]
  },
  {
   "cell_type": "code",
   "execution_count": null,
   "metadata": {
    "colab": {
     "base_uri": "https://localhost:8080/",
     "height": 204
    },
    "colab_type": "code",
    "executionInfo": {
     "elapsed": 1397,
     "status": "ok",
     "timestamp": 1595502411023,
     "user": {
      "displayName": "saetbyeol leeyouk",
      "photoUrl": "https://lh3.googleusercontent.com/a-/AOh14Ghyw_A03ZJ0pN55diTlXjRXyRWOM8glptwYwLKSQQ=s64",
      "userId": "05797582779608546462"
     },
     "user_tz": -540
    },
    "id": "nnW_N96wVl1r",
    "outputId": "4031d0ac-a8be-4bf8-bb02-4082da8f32f4"
   },
   "outputs": [
    {
     "data": {
      "text/html": [
       "<div>\n",
       "<style scoped>\n",
       "    .dataframe tbody tr th:only-of-type {\n",
       "        vertical-align: middle;\n",
       "    }\n",
       "\n",
       "    .dataframe tbody tr th {\n",
       "        vertical-align: top;\n",
       "    }\n",
       "\n",
       "    .dataframe thead th {\n",
       "        text-align: right;\n",
       "    }\n",
       "</style>\n",
       "<table border=\"1\" class=\"dataframe\">\n",
       "  <thead>\n",
       "    <tr style=\"text-align: right;\">\n",
       "      <th></th>\n",
       "      <th>산업분류</th>\n",
       "      <th>ID</th>\n",
       "      <th>지역</th>\n",
       "      <th>행정구역</th>\n",
       "      <th>인구 수</th>\n",
       "      <th>확진자 수</th>\n",
       "      <th>총사업체수</th>\n",
       "      <th>총종사자수</th>\n",
       "      <th>인구 대비 확진자 수</th>\n",
       "      <th>인구 대비 산업체 수</th>\n",
       "      <th>인구 대비 산업체 종사자 수</th>\n",
       "      <th>종사자수 대비 산업체 수</th>\n",
       "    </tr>\n",
       "  </thead>\n",
       "  <tbody>\n",
       "    <tr>\n",
       "      <th>0</th>\n",
       "      <td>방문 판매업</td>\n",
       "      <td>서울 종로</td>\n",
       "      <td>서울</td>\n",
       "      <td>종로구</td>\n",
       "      <td>157967</td>\n",
       "      <td>27</td>\n",
       "      <td>14</td>\n",
       "      <td>44</td>\n",
       "      <td>0.017092</td>\n",
       "      <td>0.008863</td>\n",
       "      <td>0.027854</td>\n",
       "      <td>31.818182</td>\n",
       "    </tr>\n",
       "    <tr>\n",
       "      <th>1</th>\n",
       "      <td>방문 판매업</td>\n",
       "      <td>서울 중구</td>\n",
       "      <td>서울</td>\n",
       "      <td>중구</td>\n",
       "      <td>129797</td>\n",
       "      <td>18</td>\n",
       "      <td>18</td>\n",
       "      <td>586</td>\n",
       "      <td>0.013868</td>\n",
       "      <td>0.013868</td>\n",
       "      <td>0.451474</td>\n",
       "      <td>3.071672</td>\n",
       "    </tr>\n",
       "    <tr>\n",
       "      <th>2</th>\n",
       "      <td>방문 판매업</td>\n",
       "      <td>서울 용산</td>\n",
       "      <td>서울</td>\n",
       "      <td>용산구</td>\n",
       "      <td>226938</td>\n",
       "      <td>53</td>\n",
       "      <td>24</td>\n",
       "      <td>95</td>\n",
       "      <td>0.023354</td>\n",
       "      <td>0.010576</td>\n",
       "      <td>0.041862</td>\n",
       "      <td>25.263158</td>\n",
       "    </tr>\n",
       "    <tr>\n",
       "      <th>3</th>\n",
       "      <td>방문 판매업</td>\n",
       "      <td>서울 성동</td>\n",
       "      <td>서울</td>\n",
       "      <td>성동구</td>\n",
       "      <td>306796</td>\n",
       "      <td>57</td>\n",
       "      <td>16</td>\n",
       "      <td>143</td>\n",
       "      <td>0.018579</td>\n",
       "      <td>0.005215</td>\n",
       "      <td>0.046611</td>\n",
       "      <td>11.188811</td>\n",
       "    </tr>\n",
       "    <tr>\n",
       "      <th>4</th>\n",
       "      <td>방문 판매업</td>\n",
       "      <td>서울 광진</td>\n",
       "      <td>서울</td>\n",
       "      <td>광진구</td>\n",
       "      <td>362304</td>\n",
       "      <td>22</td>\n",
       "      <td>27</td>\n",
       "      <td>347</td>\n",
       "      <td>0.006072</td>\n",
       "      <td>0.007452</td>\n",
       "      <td>0.095776</td>\n",
       "      <td>7.780980</td>\n",
       "    </tr>\n",
       "  </tbody>\n",
       "</table>\n",
       "</div>"
      ],
      "text/plain": [
       "     산업분류     ID  지역  ... 인구 대비 산업체 수  인구 대비 산업체 종사자 수  종사자수 대비 산업체 수\n",
       "0  방문 판매업  서울 종로  서울  ...    0.008863         0.027854      31.818182\n",
       "1  방문 판매업  서울 중구  서울  ...    0.013868         0.451474       3.071672\n",
       "2  방문 판매업  서울 용산  서울  ...    0.010576         0.041862      25.263158\n",
       "3  방문 판매업  서울 성동  서울  ...    0.005215         0.046611      11.188811\n",
       "4  방문 판매업  서울 광진  서울  ...    0.007452         0.095776       7.780980\n",
       "\n",
       "[5 rows x 12 columns]"
      ]
     },
     "execution_count": 63,
     "metadata": {
      "tags": []
     },
     "output_type": "execute_result"
    }
   ],
   "source": [
    "#0_방문판매업\n",
    "#파일 불러오기\n",
    "df3 = pd.read_csv('/content/drive/My Drive/Cayley/최종-소분류-산업별-데이터-0.csv', index_col=0, encoding='UTF-8')\n",
    "df3.head()"
   ]
  },
  {
   "cell_type": "code",
   "execution_count": null,
   "metadata": {
    "colab": {
     "base_uri": "https://localhost:8080/",
     "height": 53
    },
    "colab_type": "code",
    "executionInfo": {
     "elapsed": 502,
     "status": "ok",
     "timestamp": 1595502412221,
     "user": {
      "displayName": "saetbyeol leeyouk",
      "photoUrl": "https://lh3.googleusercontent.com/a-/AOh14Ghyw_A03ZJ0pN55diTlXjRXyRWOM8glptwYwLKSQQ=s64",
      "userId": "05797582779608546462"
     },
     "user_tz": -540
    },
    "id": "RbRedCyIWbQt",
    "outputId": "a7760c77-edcd-41ad-859c-27c875645bd4"
   },
   "outputs": [
    {
     "data": {
      "text/plain": [
       "array([[1.        , 0.06759154],\n",
       "       [0.06759154, 1.        ]])"
      ]
     },
     "execution_count": 64,
     "metadata": {
      "tags": []
     },
     "output_type": "execute_result"
    }
   ],
   "source": [
    "np.corrcoef(df3['인구 대비 산업체 수'], df3['인구 대비 확진자 수'])\n",
    "#매우 약한 상관관계 <-관계 거의 없음"
   ]
  },
  {
   "cell_type": "code",
   "execution_count": null,
   "metadata": {
    "colab": {
     "base_uri": "https://localhost:8080/",
     "height": 53
    },
    "colab_type": "code",
    "executionInfo": {
     "elapsed": 718,
     "status": "ok",
     "timestamp": 1595502425023,
     "user": {
      "displayName": "saetbyeol leeyouk",
      "photoUrl": "https://lh3.googleusercontent.com/a-/AOh14Ghyw_A03ZJ0pN55diTlXjRXyRWOM8glptwYwLKSQQ=s64",
      "userId": "05797582779608546462"
     },
     "user_tz": -540
    },
    "id": "hrHCLgL6Ws2M",
    "outputId": "b3ef034c-e12b-4da1-d5ce-d091a0b37264"
   },
   "outputs": [
    {
     "data": {
      "text/plain": [
       "array([[1.        , 0.17990617],\n",
       "       [0.17990617, 1.        ]])"
      ]
     },
     "execution_count": 65,
     "metadata": {
      "tags": []
     },
     "output_type": "execute_result"
    }
   ],
   "source": [
    "np.corrcoef(df3['인구 대비 산업체 종사자 수'], df3['인구 대비 확진자 수'])\n",
    "#매우 약한 상관관계 <- 관계 거의 없음"
   ]
  },
  {
   "cell_type": "code",
   "execution_count": null,
   "metadata": {
    "colab": {
     "base_uri": "https://localhost:8080/",
     "height": 53
    },
    "colab_type": "code",
    "executionInfo": {
     "elapsed": 684,
     "status": "ok",
     "timestamp": 1595502442332,
     "user": {
      "displayName": "saetbyeol leeyouk",
      "photoUrl": "https://lh3.googleusercontent.com/a-/AOh14Ghyw_A03ZJ0pN55diTlXjRXyRWOM8glptwYwLKSQQ=s64",
      "userId": "05797582779608546462"
     },
     "user_tz": -540
    },
    "id": "eiaNse_5Wkkr",
    "outputId": "3dd26608-276a-4d09-9771-416288dbbf0a"
   },
   "outputs": [
    {
     "data": {
      "text/plain": [
       "array([[1.        , 0.03942181],\n",
       "       [0.03942181, 1.        ]])"
      ]
     },
     "execution_count": 67,
     "metadata": {
      "tags": []
     },
     "output_type": "execute_result"
    }
   ],
   "source": [
    "np.corrcoef(df3['종사자수 대비 산업체 수'], df3['인구 대비 확진자 수'])\n",
    "#매우 약한 상관관계<-관계 거의 없음"
   ]
  },
  {
   "cell_type": "code",
   "execution_count": null,
   "metadata": {
    "colab": {
     "base_uri": "https://localhost:8080/",
     "height": 204
    },
    "colab_type": "code",
    "executionInfo": {
     "elapsed": 1434,
     "status": "ok",
     "timestamp": 1595502744804,
     "user": {
      "displayName": "saetbyeol leeyouk",
      "photoUrl": "https://lh3.googleusercontent.com/a-/AOh14Ghyw_A03ZJ0pN55diTlXjRXyRWOM8glptwYwLKSQQ=s64",
      "userId": "05797582779608546462"
     },
     "user_tz": -540
    },
    "id": "oLr5xEkiW3Z7",
    "outputId": "725a8616-f873-40c4-9d50-ddf1c1f71be0"
   },
   "outputs": [
    {
     "data": {
      "text/html": [
       "<div>\n",
       "<style scoped>\n",
       "    .dataframe tbody tr th:only-of-type {\n",
       "        vertical-align: middle;\n",
       "    }\n",
       "\n",
       "    .dataframe tbody tr th {\n",
       "        vertical-align: top;\n",
       "    }\n",
       "\n",
       "    .dataframe thead th {\n",
       "        text-align: right;\n",
       "    }\n",
       "</style>\n",
       "<table border=\"1\" class=\"dataframe\">\n",
       "  <thead>\n",
       "    <tr style=\"text-align: right;\">\n",
       "      <th></th>\n",
       "      <th>산업분류</th>\n",
       "      <th>ID</th>\n",
       "      <th>지역</th>\n",
       "      <th>행정구역</th>\n",
       "      <th>인구 수</th>\n",
       "      <th>확진자 수</th>\n",
       "      <th>총사업체수</th>\n",
       "      <th>총종사자수</th>\n",
       "      <th>인구 대비 확진자 수</th>\n",
       "      <th>인구 대비 산업체 수</th>\n",
       "      <th>인구 대비 산업체 종사자 수</th>\n",
       "      <th>종사자수 대비 산업체 수</th>\n",
       "    </tr>\n",
       "  </thead>\n",
       "  <tbody>\n",
       "    <tr>\n",
       "      <th>0</th>\n",
       "      <td>택배업</td>\n",
       "      <td>서울 종로</td>\n",
       "      <td>서울</td>\n",
       "      <td>종로구</td>\n",
       "      <td>157967</td>\n",
       "      <td>27</td>\n",
       "      <td>27</td>\n",
       "      <td>258</td>\n",
       "      <td>0.017092</td>\n",
       "      <td>0.017092</td>\n",
       "      <td>0.163325</td>\n",
       "      <td>10.465116</td>\n",
       "    </tr>\n",
       "    <tr>\n",
       "      <th>1</th>\n",
       "      <td>택배업</td>\n",
       "      <td>서울 중구</td>\n",
       "      <td>서울</td>\n",
       "      <td>중구</td>\n",
       "      <td>129797</td>\n",
       "      <td>18</td>\n",
       "      <td>71</td>\n",
       "      <td>2016</td>\n",
       "      <td>0.013868</td>\n",
       "      <td>0.054701</td>\n",
       "      <td>1.553195</td>\n",
       "      <td>3.521825</td>\n",
       "    </tr>\n",
       "    <tr>\n",
       "      <th>2</th>\n",
       "      <td>택배업</td>\n",
       "      <td>서울 용산</td>\n",
       "      <td>서울</td>\n",
       "      <td>용산구</td>\n",
       "      <td>226938</td>\n",
       "      <td>53</td>\n",
       "      <td>29</td>\n",
       "      <td>172</td>\n",
       "      <td>0.023354</td>\n",
       "      <td>0.012779</td>\n",
       "      <td>0.075792</td>\n",
       "      <td>16.860465</td>\n",
       "    </tr>\n",
       "    <tr>\n",
       "      <th>3</th>\n",
       "      <td>택배업</td>\n",
       "      <td>서울 성동</td>\n",
       "      <td>서울</td>\n",
       "      <td>성동구</td>\n",
       "      <td>306796</td>\n",
       "      <td>57</td>\n",
       "      <td>35</td>\n",
       "      <td>358</td>\n",
       "      <td>0.018579</td>\n",
       "      <td>0.011408</td>\n",
       "      <td>0.116690</td>\n",
       "      <td>9.776536</td>\n",
       "    </tr>\n",
       "    <tr>\n",
       "      <th>4</th>\n",
       "      <td>택배업</td>\n",
       "      <td>서울 광진</td>\n",
       "      <td>서울</td>\n",
       "      <td>광진구</td>\n",
       "      <td>362304</td>\n",
       "      <td>22</td>\n",
       "      <td>10</td>\n",
       "      <td>374</td>\n",
       "      <td>0.006072</td>\n",
       "      <td>0.002760</td>\n",
       "      <td>0.103228</td>\n",
       "      <td>2.673797</td>\n",
       "    </tr>\n",
       "  </tbody>\n",
       "</table>\n",
       "</div>"
      ],
      "text/plain": [
       "  산업분류     ID  지역  ... 인구 대비 산업체 수  인구 대비 산업체 종사자 수  종사자수 대비 산업체 수\n",
       "0  택배업  서울 종로  서울  ...    0.017092         0.163325      10.465116\n",
       "1  택배업  서울 중구  서울  ...    0.054701         1.553195       3.521825\n",
       "2  택배업  서울 용산  서울  ...    0.012779         0.075792      16.860465\n",
       "3  택배업  서울 성동  서울  ...    0.011408         0.116690       9.776536\n",
       "4  택배업  서울 광진  서울  ...    0.002760         0.103228       2.673797\n",
       "\n",
       "[5 rows x 12 columns]"
      ]
     },
     "execution_count": 77,
     "metadata": {
      "tags": []
     },
     "output_type": "execute_result"
    }
   ],
   "source": [
    "#1_택배업\n",
    "#파일 불러오기\n",
    "df4 = pd.read_csv('/content/drive/My Drive/Cayley/최종-소분류-산업별-데이터-1.csv', index_col=0, encoding='UTF-8')\n",
    "df4.head()"
   ]
  },
  {
   "cell_type": "code",
   "execution_count": null,
   "metadata": {
    "colab": {
     "base_uri": "https://localhost:8080/",
     "height": 53
    },
    "colab_type": "code",
    "executionInfo": {
     "elapsed": 695,
     "status": "ok",
     "timestamp": 1595502752825,
     "user": {
      "displayName": "saetbyeol leeyouk",
      "photoUrl": "https://lh3.googleusercontent.com/a-/AOh14Ghyw_A03ZJ0pN55diTlXjRXyRWOM8glptwYwLKSQQ=s64",
      "userId": "05797582779608546462"
     },
     "user_tz": -540
    },
    "id": "y0f_r_WUXEDU",
    "outputId": "b1817cc2-7756-4118-b22a-d4169efd034d"
   },
   "outputs": [
    {
     "data": {
      "text/plain": [
       "array([[ 1.        , -0.03122703],\n",
       "       [-0.03122703,  1.        ]])"
      ]
     },
     "execution_count": 78,
     "metadata": {
      "tags": []
     },
     "output_type": "execute_result"
    }
   ],
   "source": [
    "np.corrcoef(df4['인구 대비 산업체 수'], df4['인구 대비 확진자 수'])\n",
    "#매우 약한 상관관계 <-관계 거의 없음"
   ]
  },
  {
   "cell_type": "code",
   "execution_count": null,
   "metadata": {
    "colab": {
     "base_uri": "https://localhost:8080/",
     "height": 53
    },
    "colab_type": "code",
    "executionInfo": {
     "elapsed": 700,
     "status": "ok",
     "timestamp": 1595502755821,
     "user": {
      "displayName": "saetbyeol leeyouk",
      "photoUrl": "https://lh3.googleusercontent.com/a-/AOh14Ghyw_A03ZJ0pN55diTlXjRXyRWOM8glptwYwLKSQQ=s64",
      "userId": "05797582779608546462"
     },
     "user_tz": -540
    },
    "id": "ODPJqx_xXIB8",
    "outputId": "f7b45730-7330-4eb9-984e-d75c84dff6b1"
   },
   "outputs": [
    {
     "data": {
      "text/plain": [
       "array([[ 1.        , -0.00175949],\n",
       "       [-0.00175949,  1.        ]])"
      ]
     },
     "execution_count": 79,
     "metadata": {
      "tags": []
     },
     "output_type": "execute_result"
    }
   ],
   "source": [
    "np.corrcoef(df4['인구 대비 산업체 종사자 수'], df4['인구 대비 확진자 수'])\n",
    "#매우 약한 음의 상관관계 <- 관계 거의 없음"
   ]
  },
  {
   "cell_type": "code",
   "execution_count": null,
   "metadata": {
    "colab": {
     "base_uri": "https://localhost:8080/",
     "height": 53
    },
    "colab_type": "code",
    "executionInfo": {
     "elapsed": 968,
     "status": "ok",
     "timestamp": 1595502759514,
     "user": {
      "displayName": "saetbyeol leeyouk",
      "photoUrl": "https://lh3.googleusercontent.com/a-/AOh14Ghyw_A03ZJ0pN55diTlXjRXyRWOM8glptwYwLKSQQ=s64",
      "userId": "05797582779608546462"
     },
     "user_tz": -540
    },
    "id": "thm73FlNXNdM",
    "outputId": "12d996c9-ffca-41e2-9d45-45f4df7075c3"
   },
   "outputs": [
    {
     "data": {
      "text/plain": [
       "array([[ 1.        , -0.04759785],\n",
       "       [-0.04759785,  1.        ]])"
      ]
     },
     "execution_count": 80,
     "metadata": {
      "tags": []
     },
     "output_type": "execute_result"
    }
   ],
   "source": [
    "np.corrcoef(df4['종사자수 대비 산업체 수'], df4['인구 대비 확진자 수'])\n",
    "#매우 약한 음의 상관관계<-관계 거의 없음"
   ]
  },
  {
   "cell_type": "code",
   "execution_count": null,
   "metadata": {
    "colab": {
     "base_uri": "https://localhost:8080/",
     "height": 204
    },
    "colab_type": "code",
    "executionInfo": {
     "elapsed": 835,
     "status": "ok",
     "timestamp": 1595508393029,
     "user": {
      "displayName": "saetbyeol leeyouk",
      "photoUrl": "https://lh3.googleusercontent.com/a-/AOh14Ghyw_A03ZJ0pN55diTlXjRXyRWOM8glptwYwLKSQQ=s64",
      "userId": "05797582779608546462"
     },
     "user_tz": -540
    },
    "id": "g77-bWe4XTP1",
    "outputId": "d2b18249-2564-4a65-c5be-4763f79611a0"
   },
   "outputs": [
    {
     "data": {
      "text/html": [
       "<div>\n",
       "<style scoped>\n",
       "    .dataframe tbody tr th:only-of-type {\n",
       "        vertical-align: middle;\n",
       "    }\n",
       "\n",
       "    .dataframe tbody tr th {\n",
       "        vertical-align: top;\n",
       "    }\n",
       "\n",
       "    .dataframe thead th {\n",
       "        text-align: right;\n",
       "    }\n",
       "</style>\n",
       "<table border=\"1\" class=\"dataframe\">\n",
       "  <thead>\n",
       "    <tr style=\"text-align: right;\">\n",
       "      <th></th>\n",
       "      <th>산업분류</th>\n",
       "      <th>ID</th>\n",
       "      <th>지역</th>\n",
       "      <th>행정구역</th>\n",
       "      <th>인구 수</th>\n",
       "      <th>확진자 수</th>\n",
       "      <th>총사업체수</th>\n",
       "      <th>총종사자수</th>\n",
       "      <th>인구 대비 확진자 수</th>\n",
       "      <th>인구 대비 산업체 수</th>\n",
       "      <th>인구 대비 산업체 종사자 수</th>\n",
       "      <th>종사자수 대비 산업체 수</th>\n",
       "    </tr>\n",
       "  </thead>\n",
       "  <tbody>\n",
       "    <tr>\n",
       "      <th>0</th>\n",
       "      <td>항공 여객 운송업</td>\n",
       "      <td>서울 종로</td>\n",
       "      <td>서울</td>\n",
       "      <td>종로구</td>\n",
       "      <td>157967</td>\n",
       "      <td>27</td>\n",
       "      <td>3</td>\n",
       "      <td>169</td>\n",
       "      <td>0.017092</td>\n",
       "      <td>0.001899</td>\n",
       "      <td>0.106984</td>\n",
       "      <td>1.775148</td>\n",
       "    </tr>\n",
       "    <tr>\n",
       "      <th>1</th>\n",
       "      <td>항공 여객 운송업</td>\n",
       "      <td>서울 중구</td>\n",
       "      <td>서울</td>\n",
       "      <td>중구</td>\n",
       "      <td>129797</td>\n",
       "      <td>18</td>\n",
       "      <td>25</td>\n",
       "      <td>716</td>\n",
       "      <td>0.013868</td>\n",
       "      <td>0.019261</td>\n",
       "      <td>0.551631</td>\n",
       "      <td>3.491620</td>\n",
       "    </tr>\n",
       "    <tr>\n",
       "      <th>2</th>\n",
       "      <td>항공 여객 운송업</td>\n",
       "      <td>서울 용산</td>\n",
       "      <td>서울</td>\n",
       "      <td>용산구</td>\n",
       "      <td>226938</td>\n",
       "      <td>53</td>\n",
       "      <td>1</td>\n",
       "      <td>0</td>\n",
       "      <td>0.023354</td>\n",
       "      <td>0.000441</td>\n",
       "      <td>0.000000</td>\n",
       "      <td>0.000000</td>\n",
       "    </tr>\n",
       "    <tr>\n",
       "      <th>3</th>\n",
       "      <td>항공 여객 운송업</td>\n",
       "      <td>서울 성동</td>\n",
       "      <td>서울</td>\n",
       "      <td>성동구</td>\n",
       "      <td>306796</td>\n",
       "      <td>57</td>\n",
       "      <td>0</td>\n",
       "      <td>0</td>\n",
       "      <td>0.018579</td>\n",
       "      <td>0.000000</td>\n",
       "      <td>0.000000</td>\n",
       "      <td>0.000000</td>\n",
       "    </tr>\n",
       "    <tr>\n",
       "      <th>4</th>\n",
       "      <td>항공 여객 운송업</td>\n",
       "      <td>서울 광진</td>\n",
       "      <td>서울</td>\n",
       "      <td>광진구</td>\n",
       "      <td>362304</td>\n",
       "      <td>22</td>\n",
       "      <td>0</td>\n",
       "      <td>0</td>\n",
       "      <td>0.006072</td>\n",
       "      <td>0.000000</td>\n",
       "      <td>0.000000</td>\n",
       "      <td>0.000000</td>\n",
       "    </tr>\n",
       "  </tbody>\n",
       "</table>\n",
       "</div>"
      ],
      "text/plain": [
       "        산업분류     ID  지역  ... 인구 대비 산업체 수  인구 대비 산업체 종사자 수  종사자수 대비 산업체 수\n",
       "0  항공 여객 운송업  서울 종로  서울  ...    0.001899         0.106984       1.775148\n",
       "1  항공 여객 운송업  서울 중구  서울  ...    0.019261         0.551631       3.491620\n",
       "2  항공 여객 운송업  서울 용산  서울  ...    0.000441         0.000000       0.000000\n",
       "3  항공 여객 운송업  서울 성동  서울  ...    0.000000         0.000000       0.000000\n",
       "4  항공 여객 운송업  서울 광진  서울  ...    0.000000         0.000000       0.000000\n",
       "\n",
       "[5 rows x 12 columns]"
      ]
     },
     "execution_count": 106,
     "metadata": {
      "tags": []
     },
     "output_type": "execute_result"
    }
   ],
   "source": [
    "#2_항공 여객 운송업\n",
    "#파일 불러오기\n",
    "df5 = pd.read_csv('/content/drive/My Drive/Cayley/최종-소분류-산업별-데이터-2.csv', index_col=0, encoding='UTF-8')\n",
    "df5.head()"
   ]
  },
  {
   "cell_type": "code",
   "execution_count": null,
   "metadata": {
    "colab": {
     "base_uri": "https://localhost:8080/",
     "height": 53
    },
    "colab_type": "code",
    "executionInfo": {
     "elapsed": 729,
     "status": "ok",
     "timestamp": 1595508396355,
     "user": {
      "displayName": "saetbyeol leeyouk",
      "photoUrl": "https://lh3.googleusercontent.com/a-/AOh14Ghyw_A03ZJ0pN55diTlXjRXyRWOM8glptwYwLKSQQ=s64",
      "userId": "05797582779608546462"
     },
     "user_tz": -540
    },
    "id": "jCtcZJjWXYVV",
    "outputId": "e3e7b3e6-49a5-4052-f7c5-90f9564ac031"
   },
   "outputs": [
    {
     "data": {
      "text/plain": [
       "array([[ 1.00000000e+00, -9.80819089e-04],\n",
       "       [-9.80819089e-04,  1.00000000e+00]])"
      ]
     },
     "execution_count": 107,
     "metadata": {
      "tags": []
     },
     "output_type": "execute_result"
    }
   ],
   "source": [
    "np.corrcoef(df5['인구 대비 산업체 수'], df5['인구 대비 확진자 수'])\n",
    "#???????????"
   ]
  },
  {
   "cell_type": "code",
   "execution_count": null,
   "metadata": {
    "colab": {
     "base_uri": "https://localhost:8080/",
     "height": 53
    },
    "colab_type": "code",
    "executionInfo": {
     "elapsed": 728,
     "status": "ok",
     "timestamp": 1595502657097,
     "user": {
      "displayName": "saetbyeol leeyouk",
      "photoUrl": "https://lh3.googleusercontent.com/a-/AOh14Ghyw_A03ZJ0pN55diTlXjRXyRWOM8glptwYwLKSQQ=s64",
      "userId": "05797582779608546462"
     },
     "user_tz": -540
    },
    "id": "VtrHws7mXk6R",
    "outputId": "d3b72dfb-d55d-4802-df98-89ba27cd5b9c"
   },
   "outputs": [
    {
     "data": {
      "text/plain": [
       "array([[ 1.        , -0.01176867],\n",
       "       [-0.01176867,  1.        ]])"
      ]
     },
     "execution_count": 75,
     "metadata": {
      "tags": []
     },
     "output_type": "execute_result"
    }
   ],
   "source": [
    "np.corrcoef(df5['인구 대비 산업체 종사자 수'], df5['인구 대비 확진자 수'])\n",
    "#매우 약한 음의 상관관계 <- 관계 거의 없음"
   ]
  },
  {
   "cell_type": "code",
   "execution_count": null,
   "metadata": {
    "colab": {
     "base_uri": "https://localhost:8080/",
     "height": 53
    },
    "colab_type": "code",
    "executionInfo": {
     "elapsed": 688,
     "status": "ok",
     "timestamp": 1595502672022,
     "user": {
      "displayName": "saetbyeol leeyouk",
      "photoUrl": "https://lh3.googleusercontent.com/a-/AOh14Ghyw_A03ZJ0pN55diTlXjRXyRWOM8glptwYwLKSQQ=s64",
      "userId": "05797582779608546462"
     },
     "user_tz": -540
    },
    "id": "jiNNkVKoXouB",
    "outputId": "cd980dbd-9345-49cd-aa90-1e880fceaf32"
   },
   "outputs": [
    {
     "data": {
      "text/plain": [
       "array([[ 1.        , -0.01703827],\n",
       "       [-0.01703827,  1.        ]])"
      ]
     },
     "execution_count": 76,
     "metadata": {
      "tags": []
     },
     "output_type": "execute_result"
    }
   ],
   "source": [
    "np.corrcoef(df5['종사자수 대비 산업체 수'], df5['인구 대비 확진자 수'])\n",
    "#매우 약한 음의 상관관계<-관계 거의 없음"
   ]
  },
  {
   "cell_type": "code",
   "execution_count": null,
   "metadata": {
    "colab": {
     "base_uri": "https://localhost:8080/",
     "height": 204
    },
    "colab_type": "code",
    "executionInfo": {
     "elapsed": 1512,
     "status": "ok",
     "timestamp": 1595502796727,
     "user": {
      "displayName": "saetbyeol leeyouk",
      "photoUrl": "https://lh3.googleusercontent.com/a-/AOh14Ghyw_A03ZJ0pN55diTlXjRXyRWOM8glptwYwLKSQQ=s64",
      "userId": "05797582779608546462"
     },
     "user_tz": -540
    },
    "id": "vTVlMJRJXwa0",
    "outputId": "dbc043ec-1f91-4271-a1aa-5c7c89603eb8"
   },
   "outputs": [
    {
     "data": {
      "text/html": [
       "<div>\n",
       "<style scoped>\n",
       "    .dataframe tbody tr th:only-of-type {\n",
       "        vertical-align: middle;\n",
       "    }\n",
       "\n",
       "    .dataframe tbody tr th {\n",
       "        vertical-align: top;\n",
       "    }\n",
       "\n",
       "    .dataframe thead th {\n",
       "        text-align: right;\n",
       "    }\n",
       "</style>\n",
       "<table border=\"1\" class=\"dataframe\">\n",
       "  <thead>\n",
       "    <tr style=\"text-align: right;\">\n",
       "      <th></th>\n",
       "      <th>산업분류</th>\n",
       "      <th>ID</th>\n",
       "      <th>지역</th>\n",
       "      <th>행정구역</th>\n",
       "      <th>인구 수</th>\n",
       "      <th>확진자 수</th>\n",
       "      <th>총사업체수</th>\n",
       "      <th>총종사자수</th>\n",
       "      <th>인구 대비 확진자 수</th>\n",
       "      <th>인구 대비 산업체 수</th>\n",
       "      <th>인구 대비 산업체 종사자 수</th>\n",
       "      <th>종사자수 대비 산업체 수</th>\n",
       "    </tr>\n",
       "  </thead>\n",
       "  <tbody>\n",
       "    <tr>\n",
       "      <th>0</th>\n",
       "      <td>주점업</td>\n",
       "      <td>서울 종로</td>\n",
       "      <td>서울</td>\n",
       "      <td>종로구</td>\n",
       "      <td>157967</td>\n",
       "      <td>27</td>\n",
       "      <td>888</td>\n",
       "      <td>2472</td>\n",
       "      <td>0.017092</td>\n",
       "      <td>0.562143</td>\n",
       "      <td>1.564884</td>\n",
       "      <td>35.922330</td>\n",
       "    </tr>\n",
       "    <tr>\n",
       "      <th>1</th>\n",
       "      <td>주점업</td>\n",
       "      <td>서울 중구</td>\n",
       "      <td>서울</td>\n",
       "      <td>중구</td>\n",
       "      <td>129797</td>\n",
       "      <td>18</td>\n",
       "      <td>625</td>\n",
       "      <td>1674</td>\n",
       "      <td>0.013868</td>\n",
       "      <td>0.481521</td>\n",
       "      <td>1.289706</td>\n",
       "      <td>37.335723</td>\n",
       "    </tr>\n",
       "    <tr>\n",
       "      <th>2</th>\n",
       "      <td>주점업</td>\n",
       "      <td>서울 용산</td>\n",
       "      <td>서울</td>\n",
       "      <td>용산구</td>\n",
       "      <td>226938</td>\n",
       "      <td>53</td>\n",
       "      <td>713</td>\n",
       "      <td>2102</td>\n",
       "      <td>0.023354</td>\n",
       "      <td>0.314183</td>\n",
       "      <td>0.926244</td>\n",
       "      <td>33.920076</td>\n",
       "    </tr>\n",
       "    <tr>\n",
       "      <th>3</th>\n",
       "      <td>주점업</td>\n",
       "      <td>서울 성동</td>\n",
       "      <td>서울</td>\n",
       "      <td>성동구</td>\n",
       "      <td>306796</td>\n",
       "      <td>57</td>\n",
       "      <td>448</td>\n",
       "      <td>1031</td>\n",
       "      <td>0.018579</td>\n",
       "      <td>0.146025</td>\n",
       "      <td>0.336054</td>\n",
       "      <td>43.452958</td>\n",
       "    </tr>\n",
       "    <tr>\n",
       "      <th>4</th>\n",
       "      <td>주점업</td>\n",
       "      <td>서울 광진</td>\n",
       "      <td>서울</td>\n",
       "      <td>광진구</td>\n",
       "      <td>362304</td>\n",
       "      <td>22</td>\n",
       "      <td>860</td>\n",
       "      <td>2128</td>\n",
       "      <td>0.006072</td>\n",
       "      <td>0.237370</td>\n",
       "      <td>0.587352</td>\n",
       "      <td>40.413534</td>\n",
       "    </tr>\n",
       "  </tbody>\n",
       "</table>\n",
       "</div>"
      ],
      "text/plain": [
       "  산업분류     ID  지역  ... 인구 대비 산업체 수  인구 대비 산업체 종사자 수  종사자수 대비 산업체 수\n",
       "0  주점업  서울 종로  서울  ...    0.562143         1.564884      35.922330\n",
       "1  주점업  서울 중구  서울  ...    0.481521         1.289706      37.335723\n",
       "2  주점업  서울 용산  서울  ...    0.314183         0.926244      33.920076\n",
       "3  주점업  서울 성동  서울  ...    0.146025         0.336054      43.452958\n",
       "4  주점업  서울 광진  서울  ...    0.237370         0.587352      40.413534\n",
       "\n",
       "[5 rows x 12 columns]"
      ]
     },
     "execution_count": 81,
     "metadata": {
      "tags": []
     },
     "output_type": "execute_result"
    }
   ],
   "source": [
    "#3_주점업\n",
    "#파일 불러오기\n",
    "df6 = pd.read_csv('/content/drive/My Drive/Cayley/최종-소분류-산업별-데이터-3.csv', index_col=0, encoding='UTF-8')\n",
    "df6.head()"
   ]
  },
  {
   "cell_type": "code",
   "execution_count": null,
   "metadata": {
    "colab": {
     "base_uri": "https://localhost:8080/",
     "height": 53
    },
    "colab_type": "code",
    "executionInfo": {
     "elapsed": 677,
     "status": "ok",
     "timestamp": 1595502815997,
     "user": {
      "displayName": "saetbyeol leeyouk",
      "photoUrl": "https://lh3.googleusercontent.com/a-/AOh14Ghyw_A03ZJ0pN55diTlXjRXyRWOM8glptwYwLKSQQ=s64",
      "userId": "05797582779608546462"
     },
     "user_tz": -540
    },
    "id": "2ggyFBLNYL0P",
    "outputId": "6f92e32b-56bd-4451-cb5b-a29dfc609735"
   },
   "outputs": [
    {
     "data": {
      "text/plain": [
       "array([[1.        , 0.01860987],\n",
       "       [0.01860987, 1.        ]])"
      ]
     },
     "execution_count": 82,
     "metadata": {
      "tags": []
     },
     "output_type": "execute_result"
    }
   ],
   "source": [
    "np.corrcoef(df6['인구 대비 산업체 수'], df6['인구 대비 확진자 수'])\n",
    "#매우 약한 상관관계 <- 상관관계 거의 없음"
   ]
  },
  {
   "cell_type": "code",
   "execution_count": null,
   "metadata": {
    "colab": {
     "base_uri": "https://localhost:8080/",
     "height": 53
    },
    "colab_type": "code",
    "executionInfo": {
     "elapsed": 858,
     "status": "ok",
     "timestamp": 1595502840217,
     "user": {
      "displayName": "saetbyeol leeyouk",
      "photoUrl": "https://lh3.googleusercontent.com/a-/AOh14Ghyw_A03ZJ0pN55diTlXjRXyRWOM8glptwYwLKSQQ=s64",
      "userId": "05797582779608546462"
     },
     "user_tz": -540
    },
    "id": "TJu2Ih0cYR0V",
    "outputId": "2d837acc-adbb-4071-83dc-1683502a9cdf"
   },
   "outputs": [
    {
     "data": {
      "text/plain": [
       "array([[1.        , 0.06180729],\n",
       "       [0.06180729, 1.        ]])"
      ]
     },
     "execution_count": 83,
     "metadata": {
      "tags": []
     },
     "output_type": "execute_result"
    }
   ],
   "source": [
    "np.corrcoef(df6['인구 대비 산업체 종사자 수'], df6['인구 대비 확진자 수'])\n",
    "#매우 약한 상관관계 <- 관계 거의 없음"
   ]
  },
  {
   "cell_type": "code",
   "execution_count": null,
   "metadata": {
    "colab": {
     "base_uri": "https://localhost:8080/",
     "height": 53
    },
    "colab_type": "code",
    "executionInfo": {
     "elapsed": 703,
     "status": "ok",
     "timestamp": 1595502857760,
     "user": {
      "displayName": "saetbyeol leeyouk",
      "photoUrl": "https://lh3.googleusercontent.com/a-/AOh14Ghyw_A03ZJ0pN55diTlXjRXyRWOM8glptwYwLKSQQ=s64",
      "userId": "05797582779608546462"
     },
     "user_tz": -540
    },
    "id": "5Ka1hZ1pYVu1",
    "outputId": "bf1cf289-75a0-4af3-d4b2-80513832d653"
   },
   "outputs": [
    {
     "data": {
      "text/plain": [
       "array([[ 1.        , -0.07003899],\n",
       "       [-0.07003899,  1.        ]])"
      ]
     },
     "execution_count": 84,
     "metadata": {
      "tags": []
     },
     "output_type": "execute_result"
    }
   ],
   "source": [
    "np.corrcoef(df6['종사자수 대비 산업체 수'], df6['인구 대비 확진자 수'])\n",
    "#매우 약한 음의 상관관계<-관계 거의 없음"
   ]
  },
  {
   "cell_type": "code",
   "execution_count": null,
   "metadata": {
    "colab": {
     "base_uri": "https://localhost:8080/",
     "height": 306
    },
    "colab_type": "code",
    "executionInfo": {
     "elapsed": 1579,
     "status": "ok",
     "timestamp": 1595502906327,
     "user": {
      "displayName": "saetbyeol leeyouk",
      "photoUrl": "https://lh3.googleusercontent.com/a-/AOh14Ghyw_A03ZJ0pN55diTlXjRXyRWOM8glptwYwLKSQQ=s64",
      "userId": "05797582779608546462"
     },
     "user_tz": -540
    },
    "id": "ZQhdlA_rYZ-f",
    "outputId": "fabaf21f-5957-42aa-8e1b-4db24f623a40"
   },
   "outputs": [
    {
     "data": {
      "text/html": [
       "<div>\n",
       "<style scoped>\n",
       "    .dataframe tbody tr th:only-of-type {\n",
       "        vertical-align: middle;\n",
       "    }\n",
       "\n",
       "    .dataframe tbody tr th {\n",
       "        vertical-align: top;\n",
       "    }\n",
       "\n",
       "    .dataframe thead th {\n",
       "        text-align: right;\n",
       "    }\n",
       "</style>\n",
       "<table border=\"1\" class=\"dataframe\">\n",
       "  <thead>\n",
       "    <tr style=\"text-align: right;\">\n",
       "      <th></th>\n",
       "      <th>산업분류</th>\n",
       "      <th>ID</th>\n",
       "      <th>지역</th>\n",
       "      <th>행정구역</th>\n",
       "      <th>인구 수</th>\n",
       "      <th>확진자 수</th>\n",
       "      <th>총사업체수</th>\n",
       "      <th>총종사자수</th>\n",
       "      <th>인구 대비 확진자 수</th>\n",
       "      <th>인구 대비 산업체 수</th>\n",
       "      <th>인구 대비 산업체 종사자 수</th>\n",
       "      <th>종사자수 대비 산업체 수</th>\n",
       "    </tr>\n",
       "  </thead>\n",
       "  <tbody>\n",
       "    <tr>\n",
       "      <th>0</th>\n",
       "      <td>콜센터 및 텔레마케팅 서비스업</td>\n",
       "      <td>서울 종로</td>\n",
       "      <td>서울</td>\n",
       "      <td>종로구</td>\n",
       "      <td>157967</td>\n",
       "      <td>27</td>\n",
       "      <td>7</td>\n",
       "      <td>746</td>\n",
       "      <td>0.017092</td>\n",
       "      <td>0.004431</td>\n",
       "      <td>0.472251</td>\n",
       "      <td>0.938338</td>\n",
       "    </tr>\n",
       "    <tr>\n",
       "      <th>1</th>\n",
       "      <td>콜센터 및 텔레마케팅 서비스업</td>\n",
       "      <td>서울 중구</td>\n",
       "      <td>서울</td>\n",
       "      <td>중구</td>\n",
       "      <td>129797</td>\n",
       "      <td>18</td>\n",
       "      <td>24</td>\n",
       "      <td>1869</td>\n",
       "      <td>0.013868</td>\n",
       "      <td>0.018490</td>\n",
       "      <td>1.439941</td>\n",
       "      <td>1.284109</td>\n",
       "    </tr>\n",
       "    <tr>\n",
       "      <th>2</th>\n",
       "      <td>콜센터 및 텔레마케팅 서비스업</td>\n",
       "      <td>서울 용산</td>\n",
       "      <td>서울</td>\n",
       "      <td>용산구</td>\n",
       "      <td>226938</td>\n",
       "      <td>53</td>\n",
       "      <td>11</td>\n",
       "      <td>953</td>\n",
       "      <td>0.023354</td>\n",
       "      <td>0.004847</td>\n",
       "      <td>0.419938</td>\n",
       "      <td>1.154250</td>\n",
       "    </tr>\n",
       "    <tr>\n",
       "      <th>3</th>\n",
       "      <td>콜센터 및 텔레마케팅 서비스업</td>\n",
       "      <td>서울 성동</td>\n",
       "      <td>서울</td>\n",
       "      <td>성동구</td>\n",
       "      <td>306796</td>\n",
       "      <td>57</td>\n",
       "      <td>14</td>\n",
       "      <td>1826</td>\n",
       "      <td>0.018579</td>\n",
       "      <td>0.004563</td>\n",
       "      <td>0.595184</td>\n",
       "      <td>0.766703</td>\n",
       "    </tr>\n",
       "    <tr>\n",
       "      <th>4</th>\n",
       "      <td>콜센터 및 텔레마케팅 서비스업</td>\n",
       "      <td>서울 광진</td>\n",
       "      <td>서울</td>\n",
       "      <td>광진구</td>\n",
       "      <td>362304</td>\n",
       "      <td>22</td>\n",
       "      <td>9</td>\n",
       "      <td>117</td>\n",
       "      <td>0.006072</td>\n",
       "      <td>0.002484</td>\n",
       "      <td>0.032293</td>\n",
       "      <td>7.692308</td>\n",
       "    </tr>\n",
       "  </tbody>\n",
       "</table>\n",
       "</div>"
      ],
      "text/plain": [
       "               산업분류     ID  지역  ... 인구 대비 산업체 수  인구 대비 산업체 종사자 수  종사자수 대비 산업체 수\n",
       "0  콜센터 및 텔레마케팅 서비스업  서울 종로  서울  ...    0.004431         0.472251       0.938338\n",
       "1  콜센터 및 텔레마케팅 서비스업  서울 중구  서울  ...    0.018490         1.439941       1.284109\n",
       "2  콜센터 및 텔레마케팅 서비스업  서울 용산  서울  ...    0.004847         0.419938       1.154250\n",
       "3  콜센터 및 텔레마케팅 서비스업  서울 성동  서울  ...    0.004563         0.595184       0.766703\n",
       "4  콜센터 및 텔레마케팅 서비스업  서울 광진  서울  ...    0.002484         0.032293       7.692308\n",
       "\n",
       "[5 rows x 12 columns]"
      ]
     },
     "execution_count": 85,
     "metadata": {
      "tags": []
     },
     "output_type": "execute_result"
    }
   ],
   "source": [
    "#4_콜센터 및 텔러마케팅 서비스업\n",
    "#파일 불러오기\n",
    "df7 = pd.read_csv('/content/drive/My Drive/Cayley/최종-소분류-산업별-데이터-4.csv', index_col=0, encoding='UTF-8')\n",
    "df7.head()"
   ]
  },
  {
   "cell_type": "code",
   "execution_count": null,
   "metadata": {
    "colab": {
     "base_uri": "https://localhost:8080/",
     "height": 53
    },
    "colab_type": "code",
    "executionInfo": {
     "elapsed": 689,
     "status": "ok",
     "timestamp": 1595502929772,
     "user": {
      "displayName": "saetbyeol leeyouk",
      "photoUrl": "https://lh3.googleusercontent.com/a-/AOh14Ghyw_A03ZJ0pN55diTlXjRXyRWOM8glptwYwLKSQQ=s64",
      "userId": "05797582779608546462"
     },
     "user_tz": -540
    },
    "id": "TNvUa1hMYn61",
    "outputId": "10b43bff-1dde-4301-ae54-aaacaada8b04"
   },
   "outputs": [
    {
     "data": {
      "text/plain": [
       "array([[1.        , 0.16969572],\n",
       "       [0.16969572, 1.        ]])"
      ]
     },
     "execution_count": 86,
     "metadata": {
      "tags": []
     },
     "output_type": "execute_result"
    }
   ],
   "source": [
    "np.corrcoef(df7['인구 대비 산업체 수'], df7['인구 대비 확진자 수'])\n",
    "#매우 약한 상관관계 <- 상관관계 거의 없음"
   ]
  },
  {
   "cell_type": "code",
   "execution_count": null,
   "metadata": {
    "colab": {
     "base_uri": "https://localhost:8080/",
     "height": 53
    },
    "colab_type": "code",
    "executionInfo": {
     "elapsed": 873,
     "status": "ok",
     "timestamp": 1595502944165,
     "user": {
      "displayName": "saetbyeol leeyouk",
      "photoUrl": "https://lh3.googleusercontent.com/a-/AOh14Ghyw_A03ZJ0pN55diTlXjRXyRWOM8glptwYwLKSQQ=s64",
      "userId": "05797582779608546462"
     },
     "user_tz": -540
    },
    "id": "0Gn6dWSnYrVf",
    "outputId": "68a5b077-747f-4c7d-e927-e62c622ba241"
   },
   "outputs": [
    {
     "data": {
      "text/plain": [
       "array([[1.       , 0.0532794],\n",
       "       [0.0532794, 1.       ]])"
      ]
     },
     "execution_count": 87,
     "metadata": {
      "tags": []
     },
     "output_type": "execute_result"
    }
   ],
   "source": [
    "np.corrcoef(df7['인구 대비 산업체 종사자 수'], df7['인구 대비 확진자 수'])\n",
    "#매우 약한 상관관계 <- 관계 거의 없음"
   ]
  },
  {
   "cell_type": "code",
   "execution_count": null,
   "metadata": {
    "colab": {
     "base_uri": "https://localhost:8080/",
     "height": 53
    },
    "colab_type": "code",
    "executionInfo": {
     "elapsed": 741,
     "status": "ok",
     "timestamp": 1595502958175,
     "user": {
      "displayName": "saetbyeol leeyouk",
      "photoUrl": "https://lh3.googleusercontent.com/a-/AOh14Ghyw_A03ZJ0pN55diTlXjRXyRWOM8glptwYwLKSQQ=s64",
      "userId": "05797582779608546462"
     },
     "user_tz": -540
    },
    "id": "IiL_6arjYuqu",
    "outputId": "cd9399e3-fa7f-468c-b010-eb1953fc396c"
   },
   "outputs": [
    {
     "data": {
      "text/plain": [
       "array([[1.        , 0.01955839],\n",
       "       [0.01955839, 1.        ]])"
      ]
     },
     "execution_count": 88,
     "metadata": {
      "tags": []
     },
     "output_type": "execute_result"
    }
   ],
   "source": [
    "np.corrcoef(df7['종사자수 대비 산업체 수'], df7['인구 대비 확진자 수'])\n",
    "#매우 약한 음의 상관관계<-관계 거의 없음"
   ]
  },
  {
   "cell_type": "code",
   "execution_count": null,
   "metadata": {
    "colab": {
     "base_uri": "https://localhost:8080/",
     "height": 204
    },
    "colab_type": "code",
    "executionInfo": {
     "elapsed": 1454,
     "status": "ok",
     "timestamp": 1595502988083,
     "user": {
      "displayName": "saetbyeol leeyouk",
      "photoUrl": "https://lh3.googleusercontent.com/a-/AOh14Ghyw_A03ZJ0pN55diTlXjRXyRWOM8glptwYwLKSQQ=s64",
      "userId": "05797582779608546462"
     },
     "user_tz": -540
    },
    "id": "kbx6ukzFYx8-",
    "outputId": "c10b20c8-3562-4c3a-b0a3-0f2ceb2061ee"
   },
   "outputs": [
    {
     "data": {
      "text/html": [
       "<div>\n",
       "<style scoped>\n",
       "    .dataframe tbody tr th:only-of-type {\n",
       "        vertical-align: middle;\n",
       "    }\n",
       "\n",
       "    .dataframe tbody tr th {\n",
       "        vertical-align: top;\n",
       "    }\n",
       "\n",
       "    .dataframe thead th {\n",
       "        text-align: right;\n",
       "    }\n",
       "</style>\n",
       "<table border=\"1\" class=\"dataframe\">\n",
       "  <thead>\n",
       "    <tr style=\"text-align: right;\">\n",
       "      <th></th>\n",
       "      <th>산업분류</th>\n",
       "      <th>ID</th>\n",
       "      <th>지역</th>\n",
       "      <th>행정구역</th>\n",
       "      <th>인구 수</th>\n",
       "      <th>확진자 수</th>\n",
       "      <th>총사업체수</th>\n",
       "      <th>총종사자수</th>\n",
       "      <th>인구 대비 확진자 수</th>\n",
       "      <th>인구 대비 산업체 수</th>\n",
       "      <th>인구 대비 산업체 종사자 수</th>\n",
       "      <th>종사자수 대비 산업체 수</th>\n",
       "    </tr>\n",
       "  </thead>\n",
       "  <tbody>\n",
       "    <tr>\n",
       "      <th>0</th>\n",
       "      <td>사회복지 서비스업</td>\n",
       "      <td>서울 종로</td>\n",
       "      <td>서울</td>\n",
       "      <td>종로구</td>\n",
       "      <td>157967</td>\n",
       "      <td>27</td>\n",
       "      <td>219</td>\n",
       "      <td>2583</td>\n",
       "      <td>0.017092</td>\n",
       "      <td>0.138637</td>\n",
       "      <td>1.635152</td>\n",
       "      <td>8.478513</td>\n",
       "    </tr>\n",
       "    <tr>\n",
       "      <th>1</th>\n",
       "      <td>사회복지 서비스업</td>\n",
       "      <td>서울 중구</td>\n",
       "      <td>서울</td>\n",
       "      <td>중구</td>\n",
       "      <td>129797</td>\n",
       "      <td>18</td>\n",
       "      <td>186</td>\n",
       "      <td>2884</td>\n",
       "      <td>0.013868</td>\n",
       "      <td>0.143301</td>\n",
       "      <td>2.221931</td>\n",
       "      <td>6.449376</td>\n",
       "    </tr>\n",
       "    <tr>\n",
       "      <th>2</th>\n",
       "      <td>사회복지 서비스업</td>\n",
       "      <td>서울 용산</td>\n",
       "      <td>서울</td>\n",
       "      <td>용산구</td>\n",
       "      <td>226938</td>\n",
       "      <td>53</td>\n",
       "      <td>256</td>\n",
       "      <td>3260</td>\n",
       "      <td>0.023354</td>\n",
       "      <td>0.112806</td>\n",
       "      <td>1.436516</td>\n",
       "      <td>7.852761</td>\n",
       "    </tr>\n",
       "    <tr>\n",
       "      <th>3</th>\n",
       "      <td>사회복지 서비스업</td>\n",
       "      <td>서울 성동</td>\n",
       "      <td>서울</td>\n",
       "      <td>성동구</td>\n",
       "      <td>306796</td>\n",
       "      <td>57</td>\n",
       "      <td>305</td>\n",
       "      <td>3772</td>\n",
       "      <td>0.018579</td>\n",
       "      <td>0.099415</td>\n",
       "      <td>1.229481</td>\n",
       "      <td>8.085896</td>\n",
       "    </tr>\n",
       "    <tr>\n",
       "      <th>4</th>\n",
       "      <td>사회복지 서비스업</td>\n",
       "      <td>서울 광진</td>\n",
       "      <td>서울</td>\n",
       "      <td>광진구</td>\n",
       "      <td>362304</td>\n",
       "      <td>22</td>\n",
       "      <td>337</td>\n",
       "      <td>5073</td>\n",
       "      <td>0.006072</td>\n",
       "      <td>0.093016</td>\n",
       "      <td>1.400205</td>\n",
       "      <td>6.643012</td>\n",
       "    </tr>\n",
       "  </tbody>\n",
       "</table>\n",
       "</div>"
      ],
      "text/plain": [
       "        산업분류     ID  지역  ... 인구 대비 산업체 수  인구 대비 산업체 종사자 수  종사자수 대비 산업체 수\n",
       "0  사회복지 서비스업  서울 종로  서울  ...    0.138637         1.635152       8.478513\n",
       "1  사회복지 서비스업  서울 중구  서울  ...    0.143301         2.221931       6.449376\n",
       "2  사회복지 서비스업  서울 용산  서울  ...    0.112806         1.436516       7.852761\n",
       "3  사회복지 서비스업  서울 성동  서울  ...    0.099415         1.229481       8.085896\n",
       "4  사회복지 서비스업  서울 광진  서울  ...    0.093016         1.400205       6.643012\n",
       "\n",
       "[5 rows x 12 columns]"
      ]
     },
     "execution_count": 89,
     "metadata": {
      "tags": []
     },
     "output_type": "execute_result"
    }
   ],
   "source": [
    "#5_사회복지 서비스업\n",
    "#파일 불러오기\n",
    "df8 = pd.read_csv('/content/drive/My Drive/Cayley/최종-소분류-산업별-데이터-5.csv', index_col=0, encoding='UTF-8')\n",
    "df8.head()"
   ]
  },
  {
   "cell_type": "code",
   "execution_count": null,
   "metadata": {
    "colab": {
     "base_uri": "https://localhost:8080/",
     "height": 53
    },
    "colab_type": "code",
    "executionInfo": {
     "elapsed": 701,
     "status": "ok",
     "timestamp": 1595503009021,
     "user": {
      "displayName": "saetbyeol leeyouk",
      "photoUrl": "https://lh3.googleusercontent.com/a-/AOh14Ghyw_A03ZJ0pN55diTlXjRXyRWOM8glptwYwLKSQQ=s64",
      "userId": "05797582779608546462"
     },
     "user_tz": -540
    },
    "id": "d0Q8p-1pY7Dt",
    "outputId": "aba97498-4457-476e-b69b-2670bc80b188"
   },
   "outputs": [
    {
     "data": {
      "text/plain": [
       "array([[ 1.        , -0.07006533],\n",
       "       [-0.07006533,  1.        ]])"
      ]
     },
     "execution_count": 90,
     "metadata": {
      "tags": []
     },
     "output_type": "execute_result"
    }
   ],
   "source": [
    "np.corrcoef(df8['인구 대비 산업체 수'], df8['인구 대비 확진자 수'])\n",
    "#매우 약한 음의 상관관계 <- 상관관계 거의 없음"
   ]
  },
  {
   "cell_type": "code",
   "execution_count": null,
   "metadata": {
    "colab": {
     "base_uri": "https://localhost:8080/",
     "height": 53
    },
    "colab_type": "code",
    "executionInfo": {
     "elapsed": 696,
     "status": "ok",
     "timestamp": 1595503025513,
     "user": {
      "displayName": "saetbyeol leeyouk",
      "photoUrl": "https://lh3.googleusercontent.com/a-/AOh14Ghyw_A03ZJ0pN55diTlXjRXyRWOM8glptwYwLKSQQ=s64",
      "userId": "05797582779608546462"
     },
     "user_tz": -540
    },
    "id": "-51imz-MY_QF",
    "outputId": "42dc481d-5f7d-4710-d495-a1526ea7f4ae"
   },
   "outputs": [
    {
     "data": {
      "text/plain": [
       "array([[1.        , 0.00676741],\n",
       "       [0.00676741, 1.        ]])"
      ]
     },
     "execution_count": 91,
     "metadata": {
      "tags": []
     },
     "output_type": "execute_result"
    }
   ],
   "source": [
    "np.corrcoef(df8['인구 대비 산업체 종사자 수'], df8['인구 대비 확진자 수'])\n",
    "#매우 약한 상관관계 <- 관계 거의 없음"
   ]
  },
  {
   "cell_type": "code",
   "execution_count": null,
   "metadata": {
    "colab": {
     "base_uri": "https://localhost:8080/",
     "height": 53
    },
    "colab_type": "code",
    "executionInfo": {
     "elapsed": 702,
     "status": "ok",
     "timestamp": 1595503039230,
     "user": {
      "displayName": "saetbyeol leeyouk",
      "photoUrl": "https://lh3.googleusercontent.com/a-/AOh14Ghyw_A03ZJ0pN55diTlXjRXyRWOM8glptwYwLKSQQ=s64",
      "userId": "05797582779608546462"
     },
     "user_tz": -540
    },
    "id": "jCd1O-9NZC1d",
    "outputId": "0b04454e-af36-440d-e595-7f5c5aba8e8b"
   },
   "outputs": [
    {
     "data": {
      "text/plain": [
       "array([[ 1.        , -0.10390528],\n",
       "       [-0.10390528,  1.        ]])"
      ]
     },
     "execution_count": 92,
     "metadata": {
      "tags": []
     },
     "output_type": "execute_result"
    }
   ],
   "source": [
    "np.corrcoef(df8['종사자수 대비 산업체 수'], df8['인구 대비 확진자 수'])\n",
    "#매우 약한 음의 상관관계<-관계 거의 없음"
   ]
  },
  {
   "cell_type": "code",
   "execution_count": null,
   "metadata": {
    "colab": {
     "base_uri": "https://localhost:8080/",
     "height": 306
    },
    "colab_type": "code",
    "executionInfo": {
     "elapsed": 1623,
     "status": "ok",
     "timestamp": 1595503068277,
     "user": {
      "displayName": "saetbyeol leeyouk",
      "photoUrl": "https://lh3.googleusercontent.com/a-/AOh14Ghyw_A03ZJ0pN55diTlXjRXyRWOM8glptwYwLKSQQ=s64",
      "userId": "05797582779608546462"
     },
     "user_tz": -540
    },
    "id": "Joa0_MojZGJu",
    "outputId": "15648d33-1ef9-49f3-87e4-10f64d9f9661"
   },
   "outputs": [
    {
     "data": {
      "text/html": [
       "<div>\n",
       "<style scoped>\n",
       "    .dataframe tbody tr th:only-of-type {\n",
       "        vertical-align: middle;\n",
       "    }\n",
       "\n",
       "    .dataframe tbody tr th {\n",
       "        vertical-align: top;\n",
       "    }\n",
       "\n",
       "    .dataframe thead th {\n",
       "        text-align: right;\n",
       "    }\n",
       "</style>\n",
       "<table border=\"1\" class=\"dataframe\">\n",
       "  <thead>\n",
       "    <tr style=\"text-align: right;\">\n",
       "      <th></th>\n",
       "      <th>산업분류</th>\n",
       "      <th>ID</th>\n",
       "      <th>지역</th>\n",
       "      <th>행정구역</th>\n",
       "      <th>인구 수</th>\n",
       "      <th>확진자 수</th>\n",
       "      <th>총사업체수</th>\n",
       "      <th>총종사자수</th>\n",
       "      <th>인구 대비 확진자 수</th>\n",
       "      <th>인구 대비 산업체 수</th>\n",
       "      <th>인구 대비 산업체 종사자 수</th>\n",
       "      <th>종사자수 대비 산업체 수</th>\n",
       "    </tr>\n",
       "  </thead>\n",
       "  <tbody>\n",
       "    <tr>\n",
       "      <th>0</th>\n",
       "      <td>개인 간병 및 유사 서비스업</td>\n",
       "      <td>서울 종로</td>\n",
       "      <td>서울</td>\n",
       "      <td>종로구</td>\n",
       "      <td>157967</td>\n",
       "      <td>27</td>\n",
       "      <td>2</td>\n",
       "      <td>0</td>\n",
       "      <td>0.017092</td>\n",
       "      <td>0.001266</td>\n",
       "      <td>0.000000</td>\n",
       "      <td>0.000000</td>\n",
       "    </tr>\n",
       "    <tr>\n",
       "      <th>1</th>\n",
       "      <td>개인 간병 및 유사 서비스업</td>\n",
       "      <td>서울 중구</td>\n",
       "      <td>서울</td>\n",
       "      <td>중구</td>\n",
       "      <td>129797</td>\n",
       "      <td>18</td>\n",
       "      <td>3</td>\n",
       "      <td>41</td>\n",
       "      <td>0.013868</td>\n",
       "      <td>0.002311</td>\n",
       "      <td>0.031588</td>\n",
       "      <td>7.317073</td>\n",
       "    </tr>\n",
       "    <tr>\n",
       "      <th>2</th>\n",
       "      <td>개인 간병 및 유사 서비스업</td>\n",
       "      <td>서울 용산</td>\n",
       "      <td>서울</td>\n",
       "      <td>용산구</td>\n",
       "      <td>226938</td>\n",
       "      <td>53</td>\n",
       "      <td>1</td>\n",
       "      <td>0</td>\n",
       "      <td>0.023354</td>\n",
       "      <td>0.000441</td>\n",
       "      <td>0.000000</td>\n",
       "      <td>0.000000</td>\n",
       "    </tr>\n",
       "    <tr>\n",
       "      <th>3</th>\n",
       "      <td>개인 간병 및 유사 서비스업</td>\n",
       "      <td>서울 성동</td>\n",
       "      <td>서울</td>\n",
       "      <td>성동구</td>\n",
       "      <td>306796</td>\n",
       "      <td>57</td>\n",
       "      <td>6</td>\n",
       "      <td>57</td>\n",
       "      <td>0.018579</td>\n",
       "      <td>0.001956</td>\n",
       "      <td>0.018579</td>\n",
       "      <td>10.526316</td>\n",
       "    </tr>\n",
       "    <tr>\n",
       "      <th>4</th>\n",
       "      <td>개인 간병 및 유사 서비스업</td>\n",
       "      <td>서울 광진</td>\n",
       "      <td>서울</td>\n",
       "      <td>광진구</td>\n",
       "      <td>362304</td>\n",
       "      <td>22</td>\n",
       "      <td>6</td>\n",
       "      <td>115</td>\n",
       "      <td>0.006072</td>\n",
       "      <td>0.001656</td>\n",
       "      <td>0.031741</td>\n",
       "      <td>5.217391</td>\n",
       "    </tr>\n",
       "  </tbody>\n",
       "</table>\n",
       "</div>"
      ],
      "text/plain": [
       "              산업분류     ID  지역  ... 인구 대비 산업체 수  인구 대비 산업체 종사자 수  종사자수 대비 산업체 수\n",
       "0  개인 간병 및 유사 서비스업  서울 종로  서울  ...    0.001266         0.000000       0.000000\n",
       "1  개인 간병 및 유사 서비스업  서울 중구  서울  ...    0.002311         0.031588       7.317073\n",
       "2  개인 간병 및 유사 서비스업  서울 용산  서울  ...    0.000441         0.000000       0.000000\n",
       "3  개인 간병 및 유사 서비스업  서울 성동  서울  ...    0.001956         0.018579      10.526316\n",
       "4  개인 간병 및 유사 서비스업  서울 광진  서울  ...    0.001656         0.031741       5.217391\n",
       "\n",
       "[5 rows x 12 columns]"
      ]
     },
     "execution_count": 93,
     "metadata": {
      "tags": []
     },
     "output_type": "execute_result"
    }
   ],
   "source": [
    "#6_개인 간병 및 유사 서비스업\n",
    "#파일 불러오기\n",
    "df9 = pd.read_csv('/content/drive/My Drive/Cayley/최종-소분류-산업별-데이터-6.csv', index_col=0, encoding='UTF-8')\n",
    "df9.head()"
   ]
  },
  {
   "cell_type": "code",
   "execution_count": null,
   "metadata": {
    "colab": {
     "base_uri": "https://localhost:8080/",
     "height": 53
    },
    "colab_type": "code",
    "executionInfo": {
     "elapsed": 853,
     "status": "ok",
     "timestamp": 1595503087942,
     "user": {
      "displayName": "saetbyeol leeyouk",
      "photoUrl": "https://lh3.googleusercontent.com/a-/AOh14Ghyw_A03ZJ0pN55diTlXjRXyRWOM8glptwYwLKSQQ=s64",
      "userId": "05797582779608546462"
     },
     "user_tz": -540
    },
    "id": "rWsQ3EMJZOVl",
    "outputId": "52e6eeeb-52d3-48cd-ac99-8e523aa250d4"
   },
   "outputs": [
    {
     "data": {
      "text/plain": [
       "array([[ 1.        , -0.06483003],\n",
       "       [-0.06483003,  1.        ]])"
      ]
     },
     "execution_count": 94,
     "metadata": {
      "tags": []
     },
     "output_type": "execute_result"
    }
   ],
   "source": [
    "np.corrcoef(df9['인구 대비 산업체 수'], df9['인구 대비 확진자 수'])\n",
    "#매우 약한 음의 상관관계 <- 상관관계 거의 없음"
   ]
  },
  {
   "cell_type": "code",
   "execution_count": null,
   "metadata": {
    "colab": {
     "base_uri": "https://localhost:8080/",
     "height": 53
    },
    "colab_type": "code",
    "executionInfo": {
     "elapsed": 775,
     "status": "ok",
     "timestamp": 1595503101415,
     "user": {
      "displayName": "saetbyeol leeyouk",
      "photoUrl": "https://lh3.googleusercontent.com/a-/AOh14Ghyw_A03ZJ0pN55diTlXjRXyRWOM8glptwYwLKSQQ=s64",
      "userId": "05797582779608546462"
     },
     "user_tz": -540
    },
    "id": "xV-8C8m_ZR39",
    "outputId": "b495bfc4-e38b-43b3-9b53-b1b62b7ea6a8"
   },
   "outputs": [
    {
     "data": {
      "text/plain": [
       "array([[ 1.        , -0.06049525],\n",
       "       [-0.06049525,  1.        ]])"
      ]
     },
     "execution_count": 95,
     "metadata": {
      "tags": []
     },
     "output_type": "execute_result"
    }
   ],
   "source": [
    "np.corrcoef(df9['인구 대비 산업체 종사자 수'], df9['인구 대비 확진자 수'])\n",
    "#매우 약한 음의 상관관계 <- 관계 거의 없음"
   ]
  },
  {
   "cell_type": "code",
   "execution_count": null,
   "metadata": {
    "colab": {
     "base_uri": "https://localhost:8080/",
     "height": 53
    },
    "colab_type": "code",
    "executionInfo": {
     "elapsed": 843,
     "status": "ok",
     "timestamp": 1595503117098,
     "user": {
      "displayName": "saetbyeol leeyouk",
      "photoUrl": "https://lh3.googleusercontent.com/a-/AOh14Ghyw_A03ZJ0pN55diTlXjRXyRWOM8glptwYwLKSQQ=s64",
      "userId": "05797582779608546462"
     },
     "user_tz": -540
    },
    "id": "lL1Am8rtZU4O",
    "outputId": "a0060d41-5e0f-4a48-8991-910abee53bd4"
   },
   "outputs": [
    {
     "data": {
      "text/plain": [
       "array([[ 1.        , -0.06005356],\n",
       "       [-0.06005356,  1.        ]])"
      ]
     },
     "execution_count": 96,
     "metadata": {
      "tags": []
     },
     "output_type": "execute_result"
    }
   ],
   "source": [
    "np.corrcoef(df9['종사자수 대비 산업체 수'], df9['인구 대비 확진자 수'])\n",
    "#매우 약한 음의 상관관계<-관계 거의 없음"
   ]
  },
  {
   "cell_type": "code",
   "execution_count": null,
   "metadata": {
    "colab": {
     "base_uri": "https://localhost:8080/",
     "height": 204
    },
    "colab_type": "code",
    "executionInfo": {
     "elapsed": 1130,
     "status": "ok",
     "timestamp": 1595503185687,
     "user": {
      "displayName": "saetbyeol leeyouk",
      "photoUrl": "https://lh3.googleusercontent.com/a-/AOh14Ghyw_A03ZJ0pN55diTlXjRXyRWOM8glptwYwLKSQQ=s64",
      "userId": "05797582779608546462"
     },
     "user_tz": -540
    },
    "id": "XNVUceAvZjxY",
    "outputId": "de980f94-995e-48c7-9c32-b0be1a364dd3"
   },
   "outputs": [
    {
     "data": {
      "text/html": [
       "<div>\n",
       "<style scoped>\n",
       "    .dataframe tbody tr th:only-of-type {\n",
       "        vertical-align: middle;\n",
       "    }\n",
       "\n",
       "    .dataframe tbody tr th {\n",
       "        vertical-align: top;\n",
       "    }\n",
       "\n",
       "    .dataframe thead th {\n",
       "        text-align: right;\n",
       "    }\n",
       "</style>\n",
       "<table border=\"1\" class=\"dataframe\">\n",
       "  <thead>\n",
       "    <tr style=\"text-align: right;\">\n",
       "      <th></th>\n",
       "      <th>산업분류</th>\n",
       "      <th>ID</th>\n",
       "      <th>지역</th>\n",
       "      <th>행정구역</th>\n",
       "      <th>인구 수</th>\n",
       "      <th>확진자 수</th>\n",
       "      <th>총사업체수</th>\n",
       "      <th>총종사자수</th>\n",
       "      <th>인구 대비 확진자 수</th>\n",
       "      <th>인구 대비 산업체 수</th>\n",
       "      <th>인구 대비 산업체 종사자 수</th>\n",
       "      <th>종사자수 대비 산업체 수</th>\n",
       "    </tr>\n",
       "  </thead>\n",
       "  <tbody>\n",
       "    <tr>\n",
       "      <th>0</th>\n",
       "      <td>종교 단체</td>\n",
       "      <td>서울 종로</td>\n",
       "      <td>서울</td>\n",
       "      <td>종로구</td>\n",
       "      <td>157967</td>\n",
       "      <td>27</td>\n",
       "      <td>407</td>\n",
       "      <td>2035</td>\n",
       "      <td>0.017092</td>\n",
       "      <td>0.257649</td>\n",
       "      <td>1.288244</td>\n",
       "      <td>20.000000</td>\n",
       "    </tr>\n",
       "    <tr>\n",
       "      <th>1</th>\n",
       "      <td>종교 단체</td>\n",
       "      <td>서울 중구</td>\n",
       "      <td>서울</td>\n",
       "      <td>중구</td>\n",
       "      <td>129797</td>\n",
       "      <td>18</td>\n",
       "      <td>163</td>\n",
       "      <td>956</td>\n",
       "      <td>0.013868</td>\n",
       "      <td>0.125581</td>\n",
       "      <td>0.736535</td>\n",
       "      <td>17.050209</td>\n",
       "    </tr>\n",
       "    <tr>\n",
       "      <th>2</th>\n",
       "      <td>종교 단체</td>\n",
       "      <td>서울 용산</td>\n",
       "      <td>서울</td>\n",
       "      <td>용산구</td>\n",
       "      <td>226938</td>\n",
       "      <td>53</td>\n",
       "      <td>180</td>\n",
       "      <td>1291</td>\n",
       "      <td>0.023354</td>\n",
       "      <td>0.079317</td>\n",
       "      <td>0.568878</td>\n",
       "      <td>13.942680</td>\n",
       "    </tr>\n",
       "    <tr>\n",
       "      <th>3</th>\n",
       "      <td>종교 단체</td>\n",
       "      <td>서울 성동</td>\n",
       "      <td>서울</td>\n",
       "      <td>성동구</td>\n",
       "      <td>306796</td>\n",
       "      <td>57</td>\n",
       "      <td>201</td>\n",
       "      <td>650</td>\n",
       "      <td>0.018579</td>\n",
       "      <td>0.065516</td>\n",
       "      <td>0.211867</td>\n",
       "      <td>30.923077</td>\n",
       "    </tr>\n",
       "    <tr>\n",
       "      <th>4</th>\n",
       "      <td>종교 단체</td>\n",
       "      <td>서울 광진</td>\n",
       "      <td>서울</td>\n",
       "      <td>광진구</td>\n",
       "      <td>362304</td>\n",
       "      <td>22</td>\n",
       "      <td>333</td>\n",
       "      <td>899</td>\n",
       "      <td>0.006072</td>\n",
       "      <td>0.091912</td>\n",
       "      <td>0.248134</td>\n",
       "      <td>37.041157</td>\n",
       "    </tr>\n",
       "  </tbody>\n",
       "</table>\n",
       "</div>"
      ],
      "text/plain": [
       "    산업분류     ID  지역  ... 인구 대비 산업체 수  인구 대비 산업체 종사자 수  종사자수 대비 산업체 수\n",
       "0  종교 단체  서울 종로  서울  ...    0.257649         1.288244      20.000000\n",
       "1  종교 단체  서울 중구  서울  ...    0.125581         0.736535      17.050209\n",
       "2  종교 단체  서울 용산  서울  ...    0.079317         0.568878      13.942680\n",
       "3  종교 단체  서울 성동  서울  ...    0.065516         0.211867      30.923077\n",
       "4  종교 단체  서울 광진  서울  ...    0.091912         0.248134      37.041157\n",
       "\n",
       "[5 rows x 12 columns]"
      ]
     },
     "execution_count": 97,
     "metadata": {
      "tags": []
     },
     "output_type": "execute_result"
    }
   ],
   "source": [
    "#7_종교 단체\n",
    "#파일 불러오기\n",
    "df10 = pd.read_csv('/content/drive/My Drive/Cayley/최종-소분류-산업별-데이터-7.csv', index_col=0, encoding='UTF-8')\n",
    "df10.head()"
   ]
  },
  {
   "cell_type": "code",
   "execution_count": null,
   "metadata": {
    "colab": {
     "base_uri": "https://localhost:8080/",
     "height": 53
    },
    "colab_type": "code",
    "executionInfo": {
     "elapsed": 745,
     "status": "ok",
     "timestamp": 1595503200429,
     "user": {
      "displayName": "saetbyeol leeyouk",
      "photoUrl": "https://lh3.googleusercontent.com/a-/AOh14Ghyw_A03ZJ0pN55diTlXjRXyRWOM8glptwYwLKSQQ=s64",
      "userId": "05797582779608546462"
     },
     "user_tz": -540
    },
    "id": "-4Bnbll0ZqTH",
    "outputId": "07fecb42-7ce7-436b-8763-9da5a4f462cd"
   },
   "outputs": [
    {
     "data": {
      "text/plain": [
       "array([[ 1.        , -0.08128433],\n",
       "       [-0.08128433,  1.        ]])"
      ]
     },
     "execution_count": 98,
     "metadata": {
      "tags": []
     },
     "output_type": "execute_result"
    }
   ],
   "source": [
    "np.corrcoef(df10['인구 대비 산업체 수'], df10['인구 대비 확진자 수'])\n",
    "#매우 약한 음의 상관관계 <- 상관관계 거의 없음"
   ]
  },
  {
   "cell_type": "code",
   "execution_count": null,
   "metadata": {
    "colab": {
     "base_uri": "https://localhost:8080/",
     "height": 53
    },
    "colab_type": "code",
    "executionInfo": {
     "elapsed": 727,
     "status": "ok",
     "timestamp": 1595503213664,
     "user": {
      "displayName": "saetbyeol leeyouk",
      "photoUrl": "https://lh3.googleusercontent.com/a-/AOh14Ghyw_A03ZJ0pN55diTlXjRXyRWOM8glptwYwLKSQQ=s64",
      "userId": "05797582779608546462"
     },
     "user_tz": -540
    },
    "id": "hoZy0erXZtH6",
    "outputId": "8b7eb7fd-e05a-43c5-9789-99b56758048a"
   },
   "outputs": [
    {
     "data": {
      "text/plain": [
       "array([[1.        , 0.01784979],\n",
       "       [0.01784979, 1.        ]])"
      ]
     },
     "execution_count": 99,
     "metadata": {
      "tags": []
     },
     "output_type": "execute_result"
    }
   ],
   "source": [
    "np.corrcoef(df10['인구 대비 산업체 종사자 수'], df10['인구 대비 확진자 수'])\n",
    "#매우 약한 상관관계 <- 관계 거의 없음"
   ]
  },
  {
   "cell_type": "code",
   "execution_count": null,
   "metadata": {
    "colab": {
     "base_uri": "https://localhost:8080/",
     "height": 53
    },
    "colab_type": "code",
    "executionInfo": {
     "elapsed": 766,
     "status": "ok",
     "timestamp": 1595503229643,
     "user": {
      "displayName": "saetbyeol leeyouk",
      "photoUrl": "https://lh3.googleusercontent.com/a-/AOh14Ghyw_A03ZJ0pN55diTlXjRXyRWOM8glptwYwLKSQQ=s64",
      "userId": "05797582779608546462"
     },
     "user_tz": -540
    },
    "id": "3Ssw-J0NZxRu",
    "outputId": "dec4457f-666a-4bd1-9c6d-644100922256"
   },
   "outputs": [
    {
     "data": {
      "text/plain": [
       "array([[ 1.       , -0.1616867],\n",
       "       [-0.1616867,  1.       ]])"
      ]
     },
     "execution_count": 100,
     "metadata": {
      "tags": []
     },
     "output_type": "execute_result"
    }
   ],
   "source": [
    "np.corrcoef(df10['종사자수 대비 산업체 수'], df10['인구 대비 확진자 수'])\n",
    "#매우 약한 음의 상관관계<-관계 거의 없음"
   ]
  },
  {
   "cell_type": "code",
   "execution_count": null,
   "metadata": {
    "colab": {
     "base_uri": "https://localhost:8080/",
     "height": 204
    },
    "colab_type": "code",
    "executionInfo": {
     "elapsed": 1231,
     "status": "ok",
     "timestamp": 1595503253384,
     "user": {
      "displayName": "saetbyeol leeyouk",
      "photoUrl": "https://lh3.googleusercontent.com/a-/AOh14Ghyw_A03ZJ0pN55diTlXjRXyRWOM8glptwYwLKSQQ=s64",
      "userId": "05797582779608546462"
     },
     "user_tz": -540
    },
    "id": "39jtKm4OZ0bu",
    "outputId": "29eb2219-f453-4cee-e40f-a328788b0dc1"
   },
   "outputs": [
    {
     "data": {
      "text/html": [
       "<div>\n",
       "<style scoped>\n",
       "    .dataframe tbody tr th:only-of-type {\n",
       "        vertical-align: middle;\n",
       "    }\n",
       "\n",
       "    .dataframe tbody tr th {\n",
       "        vertical-align: top;\n",
       "    }\n",
       "\n",
       "    .dataframe thead th {\n",
       "        text-align: right;\n",
       "    }\n",
       "</style>\n",
       "<table border=\"1\" class=\"dataframe\">\n",
       "  <thead>\n",
       "    <tr style=\"text-align: right;\">\n",
       "      <th></th>\n",
       "      <th>산업분류</th>\n",
       "      <th>ID</th>\n",
       "      <th>지역</th>\n",
       "      <th>행정구역</th>\n",
       "      <th>인구 수</th>\n",
       "      <th>확진자 수</th>\n",
       "      <th>총사업체수</th>\n",
       "      <th>총종사자수</th>\n",
       "      <th>인구 대비 확진자 수</th>\n",
       "      <th>인구 대비 산업체 수</th>\n",
       "      <th>인구 대비 산업체 종사자 수</th>\n",
       "      <th>종사자수 대비 산업체 수</th>\n",
       "    </tr>\n",
       "  </thead>\n",
       "  <tbody>\n",
       "    <tr>\n",
       "      <th>0</th>\n",
       "      <td>택시 운송업</td>\n",
       "      <td>서울 종로</td>\n",
       "      <td>서울</td>\n",
       "      <td>종로구</td>\n",
       "      <td>157967</td>\n",
       "      <td>27</td>\n",
       "      <td>222</td>\n",
       "      <td>222</td>\n",
       "      <td>0.017092</td>\n",
       "      <td>0.140536</td>\n",
       "      <td>0.140536</td>\n",
       "      <td>100.000000</td>\n",
       "    </tr>\n",
       "    <tr>\n",
       "      <th>1</th>\n",
       "      <td>택시 운송업</td>\n",
       "      <td>서울 중구</td>\n",
       "      <td>서울</td>\n",
       "      <td>중구</td>\n",
       "      <td>129797</td>\n",
       "      <td>18</td>\n",
       "      <td>235</td>\n",
       "      <td>239</td>\n",
       "      <td>0.013868</td>\n",
       "      <td>0.181052</td>\n",
       "      <td>0.184134</td>\n",
       "      <td>98.326360</td>\n",
       "    </tr>\n",
       "    <tr>\n",
       "      <th>2</th>\n",
       "      <td>택시 운송업</td>\n",
       "      <td>서울 용산</td>\n",
       "      <td>서울</td>\n",
       "      <td>용산구</td>\n",
       "      <td>226938</td>\n",
       "      <td>53</td>\n",
       "      <td>452</td>\n",
       "      <td>579</td>\n",
       "      <td>0.023354</td>\n",
       "      <td>0.199173</td>\n",
       "      <td>0.255136</td>\n",
       "      <td>78.065630</td>\n",
       "    </tr>\n",
       "    <tr>\n",
       "      <th>3</th>\n",
       "      <td>택시 운송업</td>\n",
       "      <td>서울 성동</td>\n",
       "      <td>서울</td>\n",
       "      <td>성동구</td>\n",
       "      <td>306796</td>\n",
       "      <td>57</td>\n",
       "      <td>1134</td>\n",
       "      <td>2508</td>\n",
       "      <td>0.018579</td>\n",
       "      <td>0.369627</td>\n",
       "      <td>0.817481</td>\n",
       "      <td>45.215311</td>\n",
       "    </tr>\n",
       "    <tr>\n",
       "      <th>4</th>\n",
       "      <td>택시 운송업</td>\n",
       "      <td>서울 광진</td>\n",
       "      <td>서울</td>\n",
       "      <td>광진구</td>\n",
       "      <td>362304</td>\n",
       "      <td>22</td>\n",
       "      <td>1137</td>\n",
       "      <td>1915</td>\n",
       "      <td>0.006072</td>\n",
       "      <td>0.313825</td>\n",
       "      <td>0.528562</td>\n",
       "      <td>59.373368</td>\n",
       "    </tr>\n",
       "  </tbody>\n",
       "</table>\n",
       "</div>"
      ],
      "text/plain": [
       "     산업분류     ID  지역  ... 인구 대비 산업체 수  인구 대비 산업체 종사자 수  종사자수 대비 산업체 수\n",
       "0  택시 운송업  서울 종로  서울  ...    0.140536         0.140536     100.000000\n",
       "1  택시 운송업  서울 중구  서울  ...    0.181052         0.184134      98.326360\n",
       "2  택시 운송업  서울 용산  서울  ...    0.199173         0.255136      78.065630\n",
       "3  택시 운송업  서울 성동  서울  ...    0.369627         0.817481      45.215311\n",
       "4  택시 운송업  서울 광진  서울  ...    0.313825         0.528562      59.373368\n",
       "\n",
       "[5 rows x 12 columns]"
      ]
     },
     "execution_count": 101,
     "metadata": {
      "tags": []
     },
     "output_type": "execute_result"
    }
   ],
   "source": [
    "#8_택시 운송업\n",
    "#파일 불러오기\n",
    "df11 = pd.read_csv('/content/drive/My Drive/Cayley/최종-소분류-산업별-데이터-8.csv', index_col=0, encoding='UTF-8')\n",
    "df11.head()"
   ]
  },
  {
   "cell_type": "code",
   "execution_count": null,
   "metadata": {
    "colab": {
     "base_uri": "https://localhost:8080/",
     "height": 53
    },
    "colab_type": "code",
    "executionInfo": {
     "elapsed": 824,
     "status": "ok",
     "timestamp": 1595503272381,
     "user": {
      "displayName": "saetbyeol leeyouk",
      "photoUrl": "https://lh3.googleusercontent.com/a-/AOh14Ghyw_A03ZJ0pN55diTlXjRXyRWOM8glptwYwLKSQQ=s64",
      "userId": "05797582779608546462"
     },
     "user_tz": -540
    },
    "id": "t2_u_OYNZ7gW",
    "outputId": "2d8010c5-8770-4f94-b7ca-99e253a96825"
   },
   "outputs": [
    {
     "data": {
      "text/plain": [
       "array([[1.        , 0.07194195],\n",
       "       [0.07194195, 1.        ]])"
      ]
     },
     "execution_count": 102,
     "metadata": {
      "tags": []
     },
     "output_type": "execute_result"
    }
   ],
   "source": [
    "np.corrcoef(df11['인구 대비 산업체 수'], df11['인구 대비 확진자 수'])\n",
    "#매우 약한 상관관계 <- 상관관계 거의 없음"
   ]
  },
  {
   "cell_type": "code",
   "execution_count": null,
   "metadata": {
    "colab": {
     "base_uri": "https://localhost:8080/",
     "height": 53
    },
    "colab_type": "code",
    "executionInfo": {
     "elapsed": 897,
     "status": "ok",
     "timestamp": 1595503288205,
     "user": {
      "displayName": "saetbyeol leeyouk",
      "photoUrl": "https://lh3.googleusercontent.com/a-/AOh14Ghyw_A03ZJ0pN55diTlXjRXyRWOM8glptwYwLKSQQ=s64",
      "userId": "05797582779608546462"
     },
     "user_tz": -540
    },
    "id": "jJ9VA8VxZ_PH",
    "outputId": "ae8fd729-1cf2-4a78-b945-60b48c0004aa"
   },
   "outputs": [
    {
     "data": {
      "text/plain": [
       "array([[1.        , 0.05082231],\n",
       "       [0.05082231, 1.        ]])"
      ]
     },
     "execution_count": 103,
     "metadata": {
      "tags": []
     },
     "output_type": "execute_result"
    }
   ],
   "source": [
    "np.corrcoef(df11['인구 대비 산업체 종사자 수'], df11['인구 대비 확진자 수'])\n",
    "#매우 약한 상관관계 <- 관계 거의 없음"
   ]
  },
  {
   "cell_type": "code",
   "execution_count": null,
   "metadata": {
    "colab": {
     "base_uri": "https://localhost:8080/",
     "height": 53
    },
    "colab_type": "code",
    "executionInfo": {
     "elapsed": 872,
     "status": "ok",
     "timestamp": 1595503307681,
     "user": {
      "displayName": "saetbyeol leeyouk",
      "photoUrl": "https://lh3.googleusercontent.com/a-/AOh14Ghyw_A03ZJ0pN55diTlXjRXyRWOM8glptwYwLKSQQ=s64",
      "userId": "05797582779608546462"
     },
     "user_tz": -540
    },
    "id": "AKq5Cdy_aCcY",
    "outputId": "550992d0-f089-4835-9a19-574f1d7d76ac"
   },
   "outputs": [
    {
     "data": {
      "text/plain": [
       "array([[1.        , 0.01090909],\n",
       "       [0.01090909, 1.        ]])"
      ]
     },
     "execution_count": 105,
     "metadata": {
      "tags": []
     },
     "output_type": "execute_result"
    }
   ],
   "source": [
    "np.corrcoef(df11['종사자수 대비 산업체 수'], df11['인구 대비 확진자 수'])\n",
    "#매우 약한 상관관계<-관계 거의 없음"
   ]
  },
  {
   "cell_type": "code",
   "execution_count": 108,
   "metadata": {
    "colab": {
     "base_uri": "https://localhost:8080/",
     "height": 35
    },
    "colab_type": "code",
    "executionInfo": {
     "elapsed": 369,
     "status": "ok",
     "timestamp": 1595511067187,
     "user": {
      "displayName": "saetbyeol leeyouk",
      "photoUrl": "https://lh3.googleusercontent.com/a-/AOh14Ghyw_A03ZJ0pN55diTlXjRXyRWOM8glptwYwLKSQQ=s64",
      "userId": "05797582779608546462"
     },
     "user_tz": -540
    },
    "id": "muL_yue72yNh",
    "outputId": "a71dfb7d-10f0-4a4b-b350-da30d5e0d460"
   },
   "outputs": [
    {
     "data": {
      "text/plain": [
       "array([0.05694698, 0.01330211])"
      ]
     },
     "execution_count": 108,
     "metadata": {
      "tags": []
     },
     "output_type": "execute_result"
    }
   ],
   "source": [
    "fp1 = np.polyfit(df3['인구 대비 산업체 종사자 수'], df3['인구 대비 확진자 수'], 1)\n",
    "fp1"
   ]
  }
 ],
 "metadata": {
  "colab": {
   "authorship_tag": "ABX9TyNJYmvGssI2UdVCFN/1/Zwn",
   "collapsed_sections": [
    "7WzTERoyU-12"
   ],
   "mount_file_id": "1ZEiYbxNLoL_linv_prAWdlh2XaEceGpY",
   "name": "상관관계 분석.ipynb",
   "provenance": []
  },
  "kernelspec": {
   "display_name": "Python 3",
   "language": "python",
   "name": "python3"
  },
  "language_info": {
   "codemirror_mode": {
    "name": "ipython",
    "version": 3
   },
   "file_extension": ".py",
   "mimetype": "text/x-python",
   "name": "python",
   "nbconvert_exporter": "python",
   "pygments_lexer": "ipython3",
   "version": "3.7.6"
  }
 },
 "nbformat": 4,
 "nbformat_minor": 1
}
